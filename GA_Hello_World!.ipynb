{
  "cells": [
    {
      "cell_type": "markdown",
      "metadata": {
        "id": "hxp1k936ZH6D"
      },
      "source": [
        "# Вывод Hello World! с помощью генетического алгоритма\n",
        "## Автор - Масло Тёмыч\n",
        "## Год создания - 2022"
      ]
    },
    {
      "cell_type": "markdown",
      "metadata": {
        "id": "Fb0cD7A7ZD3o"
      },
      "source": [
        "# 0 Исходные данные"
      ]
    },
    {
      "cell_type": "code",
      "execution_count": null,
      "metadata": {
        "id": "QWAuDleNbcd5"
      },
      "outputs": [],
      "source": [
        "target = 'Hello! My name is Artyom Maslennikov! I am data scientist. This is GA - Genetic Algorithm!'\n",
        "\n",
        "len_target = len(target) # 90"
      ]
    },
    {
      "cell_type": "markdown",
      "metadata": {
        "id": "WFD258I9ccbV"
      },
      "source": [
        "# 1 Генерация начальной популяции"
      ]
    },
    {
      "cell_type": "code",
      "execution_count": null,
      "metadata": {
        "id": "T9OXx-grdV3r"
      },
      "outputs": [],
      "source": [
        "import random as rd"
      ]
    },
    {
      "cell_type": "code",
      "execution_count": null,
      "metadata": {
        "colab": {
          "base_uri": "https://localhost:8080/"
        },
        "id": "kU1pfvGHcoAf",
        "outputId": "8b51acaf-5c28-4727-b060-65d180bb405f"
      },
      "outputs": [
        {
          "output_type": "execute_result",
          "data": {
            "text/plain": [
              "[['5i\\x8fª£v7<\\x95´O\\x8b¸z9t\\x888cA²[,0·¾\\x8dr)|55\\xa0\\x98\\x82#njf®U%exb8q~G\\x9dr¯H®{uZ¾¡4\\x9bª,,PJ£´\\x96¨\"-k¤¡\\x95#I8¢As\\x98\\x93´0^\\x8eW\\x8b'],\n",
              " ['¤A\\x8d¼\\x9a&mYwª\\x8cpnj4U~\\x8aD|mj\\x83Z\\x84^\\x86µ¿¾\\x90¢\\x9a\\x94XQ\\\\¶1y)2\\\\Bx»~\\x90º4!k½y2\\x95*\\x95C>LBº\\x9a¼ºGR\\x80CMrZ9H<³@\\x8b@ºJ¬\\x95º±¼\\x98*('],\n",
              " [';E1¥\\x97\\x9e\\x96£\\x91»A°»3\\x88¸v¤6g<PKf}V¢:A|¡¤\\x8f-#@\\x851,³nL6\":\\x7fMu\\x97Pl_,z\\x88\\x95R¬+a(<\\x83xo¸\\x98hbj\\x97V\\x94EfV\\x93f\\xa0¬=Z+-\\x9c´®u»¯'],\n",
              " [\"\\x92\\x85!\\x8a#1Ts*N\\x9fºP{\\x86D+oLµ\\x95«/tNm40½\\x983\\xa0vGj\\x8dn£¼\\x8dÀudCx0\\xadT¾an\\x8f¨\\x97{E\\x8f1\\x9f\\x85L¢,29IPYNr$¬$9'|\\x92\\x8c\\x823bz.=\\x90i\\x9eX\\x90A\"]]"
            ]
          },
          "metadata": {},
          "execution_count": 3
        }
      ],
      "source": [
        "population = []\n",
        "len_population = 4\n",
        "\n",
        "for i in range(len_population):\n",
        "  temp = ''\n",
        "  for j in range(len_target):\n",
        "    temp += chr(rd.randint(32, 192))\n",
        "  population += [[temp]]\n",
        "\n",
        "population"
      ]
    },
    {
      "cell_type": "markdown",
      "metadata": {
        "id": "bunsxcyDd5jw"
      },
      "source": [
        "# 2 Расчёт фитнесс-функции"
      ]
    },
    {
      "cell_type": "code",
      "execution_count": null,
      "metadata": {
        "id": "50W7N0z6eCHI"
      },
      "outputs": [],
      "source": [
        "def fitness(res, ans):\n",
        "  counter = 0\n",
        "\n",
        "  for i in range(len(res)):\n",
        "    if res[i] == ans[i]:\n",
        "      counter += 1\n",
        "\n",
        "  return counter"
      ]
    },
    {
      "cell_type": "code",
      "execution_count": null,
      "metadata": {
        "colab": {
          "base_uri": "https://localhost:8080/"
        },
        "id": "al7xMY-seV6I",
        "outputId": "22bada98-9a24-4237-e24a-00df8f0a6683"
      },
      "outputs": [
        {
          "output_type": "execute_result",
          "data": {
            "text/plain": [
              "[['5i\\x8fª£v7<\\x95´O\\x8b¸z9t\\x888cA²[,0·¾\\x8dr)|55\\xa0\\x98\\x82#njf®U%exb8q~G\\x9dr¯H®{uZ¾¡4\\x9bª,,PJ£´\\x96¨\"-k¤¡\\x95#I8¢As\\x98\\x93´0^\\x8eW\\x8b',\n",
              "  [1]],\n",
              " ['¤A\\x8d¼\\x9a&mYwª\\x8cpnj4U~\\x8aD|mj\\x83Z\\x84^\\x86µ¿¾\\x90¢\\x9a\\x94XQ\\\\¶1y)2\\\\Bx»~\\x90º4!k½y2\\x95*\\x95C>LBº\\x9a¼ºGR\\x80CMrZ9H<³@\\x8b@ºJ¬\\x95º±¼\\x98*(',\n",
              "  [0]],\n",
              " [';E1¥\\x97\\x9e\\x96£\\x91»A°»3\\x88¸v¤6g<PKf}V¢:A|¡¤\\x8f-#@\\x851,³nL6\":\\x7fMu\\x97Pl_,z\\x88\\x95R¬+a(<\\x83xo¸\\x98hbj\\x97V\\x94EfV\\x93f\\xa0¬=Z+-\\x9c´®u»¯',\n",
              "  [0]],\n",
              " [\"\\x92\\x85!\\x8a#1Ts*N\\x9fºP{\\x86D+oLµ\\x95«/tNm40½\\x983\\xa0vGj\\x8dn£¼\\x8dÀudCx0\\xadT¾an\\x8f¨\\x97{E\\x8f1\\x9f\\x85L¢,29IPYNr$¬$9'|\\x92\\x8c\\x823bz.=\\x90i\\x9eX\\x90A\",\n",
              "  [1]]]"
            ]
          },
          "metadata": {},
          "execution_count": 5
        }
      ],
      "source": [
        "for i, indiv in enumerate(population):\n",
        "  population[i] += [[fitness(indiv[0], target)]]\n",
        "\n",
        "population"
      ]
    },
    {
      "cell_type": "markdown",
      "metadata": {
        "id": "zuWa7ajahKQj"
      },
      "source": [
        "# 3 Скрещивание"
      ]
    },
    {
      "cell_type": "code",
      "execution_count": null,
      "metadata": {
        "id": "8rznQovl-WtH"
      },
      "outputs": [],
      "source": [
        "def crossing(parent1, parent2):\n",
        "  dot = rd.randint(0, len(parent1)-1)\n",
        "\n",
        "  child1 = parent1[:dot+1]\n",
        "  child2 = parent2[:dot+1]\n",
        "\n",
        "  child1 += parent2[dot+1::]\n",
        "  child2 += parent1[dot+1::]\n",
        "  \n",
        "  childs = [child1, child2]\n",
        "  return childs"
      ]
    },
    {
      "cell_type": "code",
      "execution_count": null,
      "metadata": {
        "colab": {
          "base_uri": "https://localhost:8080/"
        },
        "id": "LFb9q_ozh3GS",
        "outputId": "a9041cab-a64d-4038-80af-b72d6d1586b1"
      },
      "outputs": [
        {
          "output_type": "execute_result",
          "data": {
            "text/plain": [
              "[['5i\\x8fª£v7<\\x95´O\\x8b¸z9t\\x888cA²[,0·¾\\x8dr)|55\\xa0\\x98\\x82#njf®U%exb8q~G\\x9dr¯H®{uZ¾¡4\\x9bª,,PJ£´\\x96¨\"-k¤¡\\x95#I8¢As\\x98\\x93´0^\\x8eW\\x8b'],\n",
              " ['¤A\\x8d¼\\x9a&mYwª\\x8cpnj4U~\\x8aD|mj\\x83Z\\x84^\\x86µ¿¾\\x90¢\\x9a\\x94XQ\\\\¶1y)2\\\\Bx»~\\x90º4!k½y2\\x95*\\x95C>LBº\\x9a¼ºGR\\x80CMrZ9H<³@\\x8b@ºJ¬\\x95º±¼\\x98*(']]"
            ]
          },
          "metadata": {},
          "execution_count": 7
        }
      ],
      "source": [
        "generation = crossing(population[0][:-1], population[1][:-1])\n",
        "\n",
        "generation"
      ]
    },
    {
      "cell_type": "markdown",
      "metadata": {
        "id": "kg53-NbfDnsk"
      },
      "source": [
        "## 4 Мутация"
      ]
    },
    {
      "cell_type": "code",
      "execution_count": null,
      "metadata": {
        "id": "rk9x08ryDtaV"
      },
      "outputs": [],
      "source": [
        "def mutable(child):\n",
        "  num = rd.randint(1, 100)\n",
        "  if num < 31:\n",
        "      index1 = rd.randint(0, len(child)-1)\n",
        "      child = child[:index1] + chr(rd.randint(32, 192)) + child[index1+1::]\n",
        "  return child"
      ]
    },
    {
      "cell_type": "code",
      "execution_count": null,
      "metadata": {
        "colab": {
          "base_uri": "https://localhost:8080/"
        },
        "id": "RU_ejT2Jivxi",
        "outputId": "1bb3a033-b7de-4dd4-be58-a5cd713d9a45"
      },
      "outputs": [
        {
          "output_type": "execute_result",
          "data": {
            "text/plain": [
              "[['5i\\x8fª£v7<\\x95´O\\x8b¸z\"t\\x888cA²[,0·¾\\x8dr)|55\\xa0\\x98\\x82#njf®U%exb8q~G\\x9dr¯H®{uZ¾¡4\\x9bª,,PJ£´\\x96¨\"-k¤¡\\x95#I8¢As\\x98\\x93´0^\\x8eW\\x8b'],\n",
              " ['¤A\\x8d¼\\x9a&mYwª\\x8cpnj4U~\\x8aD|mj\\x83Z\\x84^\\x86µ¿¾\\x90¢\\x9a\\x94XQ\\\\¶1y)A\\\\Bx»~\\x90º4!k½y2\\x95*\\x95C>LBº\\x9a¼ºGR\\x80CMrZ9H<³@\\x8b@ºJ¬\\x95º±¼\\x98*(']]"
            ]
          },
          "metadata": {},
          "execution_count": 9
        }
      ],
      "source": [
        "new_generation = []\n",
        "\n",
        "for child in generation:\n",
        "  new_generation += [[mutable(child[0])]]\n",
        "\n",
        "new_generation"
      ]
    },
    {
      "cell_type": "code",
      "execution_count": null,
      "metadata": {
        "colab": {
          "base_uri": "https://localhost:8080/"
        },
        "id": "mzToXtKAFI6L",
        "outputId": "28afd9c0-787c-43f2-bfcf-3018b8540923"
      },
      "outputs": [
        {
          "output_type": "execute_result",
          "data": {
            "text/plain": [
              "[['5i\\x8fª£v7<\\x95´O\\x8b¸z\"t\\x888cA²[,0·¾\\x8dr)|55\\xa0\\x98\\x82#njf®U%exb8q~G\\x9dr¯H®{uZ¾¡4\\x9bª,,PJ£´\\x96¨\"-k¤¡\\x95#I8¢As\\x98\\x93´0^\\x8eW\\x8b',\n",
              "  [0]],\n",
              " ['¤A\\x8d¼\\x9a&mYwª\\x8cpnj4U~\\x8aD|mj\\x83Z\\x84^\\x86µ¿¾\\x90¢\\x9a\\x94XQ\\\\¶1y)A\\\\Bx»~\\x90º4!k½y2\\x95*\\x95C>LBº\\x9a¼ºGR\\x80CMrZ9H<³@\\x8b@ºJ¬\\x95º±¼\\x98*(',\n",
              "  [0]]]"
            ]
          },
          "metadata": {},
          "execution_count": 10
        }
      ],
      "source": [
        "for i, indiv in enumerate(new_generation):\n",
        "  new_generation[i] += [[fitness(indiv, target)]]\n",
        "\n",
        "new_generation"
      ]
    },
    {
      "cell_type": "markdown",
      "source": [
        "## 5 Отбор особей"
      ],
      "metadata": {
        "id": "DRGDpEj7Yicw"
      }
    },
    {
      "cell_type": "code",
      "source": [
        "population += new_generation[:]\n",
        "population = sorted(population, key=lambda x: -1 * x[-1][0])[:len_population]\n",
        "\n",
        "population"
      ],
      "metadata": {
        "colab": {
          "base_uri": "https://localhost:8080/"
        },
        "id": "ZtyPQ2RZYXV6",
        "outputId": "2895f5e1-cfe7-4ee5-b2bf-64d93e50b357"
      },
      "execution_count": null,
      "outputs": [
        {
          "output_type": "execute_result",
          "data": {
            "text/plain": [
              "[['5i\\x8fª£v7<\\x95´O\\x8b¸z9t\\x888cA²[,0·¾\\x8dr)|55\\xa0\\x98\\x82#njf®U%exb8q~G\\x9dr¯H®{uZ¾¡4\\x9bª,,PJ£´\\x96¨\"-k¤¡\\x95#I8¢As\\x98\\x93´0^\\x8eW\\x8b',\n",
              "  [1]],\n",
              " [\"\\x92\\x85!\\x8a#1Ts*N\\x9fºP{\\x86D+oLµ\\x95«/tNm40½\\x983\\xa0vGj\\x8dn£¼\\x8dÀudCx0\\xadT¾an\\x8f¨\\x97{E\\x8f1\\x9f\\x85L¢,29IPYNr$¬$9'|\\x92\\x8c\\x823bz.=\\x90i\\x9eX\\x90A\",\n",
              "  [1]],\n",
              " ['¤A\\x8d¼\\x9a&mYwª\\x8cpnj4U~\\x8aD|mj\\x83Z\\x84^\\x86µ¿¾\\x90¢\\x9a\\x94XQ\\\\¶1y)2\\\\Bx»~\\x90º4!k½y2\\x95*\\x95C>LBº\\x9a¼ºGR\\x80CMrZ9H<³@\\x8b@ºJ¬\\x95º±¼\\x98*(',\n",
              "  [0]],\n",
              " [';E1¥\\x97\\x9e\\x96£\\x91»A°»3\\x88¸v¤6g<PKf}V¢:A|¡¤\\x8f-#@\\x851,³nL6\":\\x7fMu\\x97Pl_,z\\x88\\x95R¬+a(<\\x83xo¸\\x98hbj\\x97V\\x94EfV\\x93f\\xa0¬=Z+-\\x9c´®u»¯',\n",
              "  [0]]]"
            ]
          },
          "metadata": {},
          "execution_count": 11
        }
      ]
    },
    {
      "cell_type": "markdown",
      "metadata": {
        "id": "Gnl8rpoikv3q"
      },
      "source": [
        "# 6 Моделирование работы генетического алгоритма"
      ]
    },
    {
      "cell_type": "code",
      "execution_count": null,
      "metadata": {
        "colab": {
          "base_uri": "https://localhost:8080/"
        },
        "id": "bhOK8X4-k46l",
        "outputId": "6357707b-c60d-4b9d-d607-6968561eb3c0"
      },
      "outputs": [
        {
          "output_type": "stream",
          "name": "stdout",
          "text": [
            "Iter: 0 [['%ªU\\x89·91@}\\x97,´\\\\e\\x9fn ºd\\x9d\\x977I½\\x8d\\x98?º\\x97£+r\\x93¡bJª\\x97*KJ\\xad51r\\x9eKV¦M6\\xa0F£¨M0¾\\x8ei.\\x8dBY\\xa0gf#¤¿`a\\x95:9x\\x85<-+·\\x8b\\x83\\xad\\x98/TaTf', [1]], [\"\\x90\\x9d]x.2,bµd\\x81\\x81,\\x8b*\\x8e<'4#R\\x90-°%³`Sd¿u\\x8fM:\\x80¦QZ\\x98}tE²¹T\\x7fhLS\\x870\\x9a)0\\x9dUX\\x84e/¶ªg_k\\x8a\\x88\\x91\\x96\\x83¥d\\x96¥¨*\\x87\\x97\\x90\\x9c¤m©eL\\x8f®D0y\", [0]], [\"¿¿0\\x95µN6O¡¬\\x97o¨L\\x9e?\\x87XgK\\x9eGB\\x88§UY\\x94Bxh4\\x8b\\x81¹£³2I\\x87\\x94O@«\\x93\\x82\\x91P¨¿S\\x80\\x86'\\x84Ev4\\x9bt\\xa0\\x94\\x858³\\x80 ·l½¬DDznX)µ¡E,\\x97\\x89\\xa0³H\\x938\\x95s\", [3]], ['\\x84\\x92\\x9a)\\x96`¹rÀ³\\x96IU\\x7f\\\\\\x9c\\x92\\x85\\x8a£b]7-\\x9e\\x87S¦%³q\"\\x91GK(k\\x849 »z3abWny½6\\x8a3\\x82\\x91X¥½y<\\x9b?¿kZtRD\\x9a\\x89\\x8b\\x98[§9¶\\x91\\x97\\x8a§{Z?}²[½\\x97+\\x9b\\x99', [1]]]\n",
            "Iter: 1 [[\"¿¿0\\x95µN6O¡¬\\x97o¨L\\x9e?\\x87XgK\\x9eGB\\x88§UY\\x94Bxh4\\x8b\\x81¹£³2I\\x87\\x94O@«\\x93\\x82\\x91P¨¿S\\x80\\x86'\\x84Ev4\\x9bt\\xa0\\x94\\x858³\\x80 ·l½¬DDznX)µ¡E,\\x97\\x89\\xa0³H\\x938\\x95s\", [3]], ['%ªU\\x89·91@}\\x97,´\\\\e\\x9fn ºd\\x9d\\x977I½\\x8d\\x98?º\\x97£+r\\x93¡bJª\\x97*KJ\\xad51r\\x9eKV¦M6\\xa0F£¨M0¾\\x8ei.\\x8dBY\\xa0gf#¤¿`a\\x95:9x\\x85<-+·\\x8b\\x83\\xad\\x98/TaTf', [1]], ['\\x84\\x92\\x9a)\\x96`¹rÀ³\\x96IU\\x7f\\\\\\x9c\\x92\\x85\\x8a£b]7-\\x9e\\x87S¦%³q\"\\x91GK(k\\x849 »z3abWny½6\\x8a3\\x82\\x91X¥½y<\\x9b?¿kZtRD\\x9a\\x89\\x8b\\x98[§9¶\\x91\\x97\\x8a§{Z?}²[½\\x97+\\x9b\\x99', [1]], ['\\x84\\x92\\x9a)\\x96`¹rÀ³\\x96IU\\x7f\\\\\\x9c\\x92\\x85\\x8a£b]7-\\x9e\\x87S¦%³q\"\\x91GK(k\\x849 »z3abWny½6\\x8a3\\x82\\x91X¥½y<\\x9b?¿kZtRD\\x9a\\x89\\x8b\\x98[§9¶\\x91\\x97\\x8a§{Z?}²[½\\x97+\\x9b\\x99', [1]]]\n",
            "Iter: 63 [[\"¿¿0\\x95µN6O¡¬\\x97o¨L\\x9e?\\x87XgK\\x9eGB\\x88§UY\\x94Bxh4\\x8b\\x81¹v³2I\\x87\\x94O@«\\x93\\x82\\x91P¨¿S\\x80\\x86'\\x84Ev4\\x9bt\\xa0\\x94\\x858³\\x80 ·l½¬DDznX)µ¡E,\\x97\\x89\\xa0³H\\x938\\x95s\", [4]], [\"¿¿0\\x95µN6O¡¬\\x97o¨L\\x9e?\\x87XgK\\x9eGB\\x88§UY\\x94Bxh4\\x8b\\x81¹£³2I\\x87\\x94O@«\\x93\\x82\\x91P¨¿S\\x80\\x86'\\x84Ev4\\x9bt\\xa0\\x94\\x858³\\x80 ·l½¬DDznX)µ¡E,\\x97\\x89\\xa0³H\\x938\\x95s\", [3]], [\"¿¿0\\x95µN6O¡¬\\x97o¨L\\x9e?\\x87XgK\\x9eGB\\x88§UY\\x94Bxh4\\x8b\\x81¹£³2I\\x87\\x94O@«\\x93\\x82\\x91P¨¿S\\x80\\x86'\\x84Ev4\\x9bt\\xa0\\x94\\x858³\\x80 ·l½¬DDznX)µ¡E,\\x97\\x89\\xa0³H\\x938\\x95s\", [3]], [\"¿¿0\\x95µN6O¡¬\\x97o¨L\\x9e?\\x87XgK\\x9eGB\\x88§UY\\x94Bxh4\\x8b\\x81¹£³2I\\x87\\x94O@«\\x93\\x82\\x91P¨¿S\\x80\\x86'\\x84Ev4\\x9bt\\xa0\\x94\\x858³\\x80 ·l½¬DDznX)µ¡E,\\x97\\x89\\xa0³H\\x938\\x95s\", [3]]]\n",
            "Iter: 441 [[\"¿¿0\\x95µN6O¡¬\\x97o¨L\\x9e?\\x87Xgr\\x9eGB\\x88§UY\\x94Bxh4\\x8b\\x81¹v³2I\\x87\\x94\\x9a@«\\x93\\x82\\x91P¨¿S\\x80\\x86'\\x84Ev4\\x9bt\\xa0\\x94\\x858³\\x80 ·l½¬DDznX)µ¡E,\\x97\\x89\\xa0³H\\x938\\x95s\", [5]], [\"¿¿0\\x95µN6O¡¬\\x97o¨L\\x9e?\\x87XgK\\x9eGB\\x88§UY\\x94Bxh4\\x8b\\x81¹v³2I\\x87\\x94O@«\\x93\\x82\\x91P¨¿S\\x80\\x86'\\x84Ev4\\x9bt\\xa0\\x94\\x858³\\x80 ·l½¬DDznX)µ¡E,\\x97\\x89\\xa0³H\\x938\\x95s\", [4]], [\"¿¿0\\x95µN6O¡¬\\x97o¨L\\x9e?\\x87XgK\\x9eGB\\x88§UY\\x94Bxh4\\x8b\\x81¹v³2I\\x87\\x94O@«\\x93\\x82\\x91P¨¿S\\x80\\x86'\\x84Ev4\\x9bt\\xa0\\x94\\x858³\\x80 ·l½¬DDznX)µ¡E,\\x97\\x89\\xa0³H\\x938\\x95s\", [4]], [\"¿¿0\\x95µN6O¡¬\\x97o¨L\\x9e?\\x87XgK\\x9eGB\\x88§UY\\x94Bxh4\\x8b\\x81¹v³2I\\x87\\x94O@«\\x93\\x82\\x91P¨¿S\\x80\\x86'\\x84Ev4\\x9bt\\xa0\\x94\\x858³\\x80 ·l½¬DDznX)µ¡E,\\x97\\x89\\xa0³H\\x938\\x95s\", [4]]]\n",
            "Iter: 1679 [[\"¿¿0\\x95µN6M¡¬\\x97o¨L\\x9e?\\x87Xgr\\x9eGB\\x88§UY\\x94Bxh4\\x8b\\x81¹v³2I\\x87\\x94\\x9a@«\\x93\\x82\\x91P¨¿S\\x80\\x86'\\x84Ev4\\x9bt\\xa0\\x94\\x858³\\x80 ·l½¬DDznX)µ¡E,\\x97\\x89\\xa0³H\\x938\\x95s\", [6]], [\"¿¿0\\x95µN6O¡¬\\x97o¨L\\x9e?\\x87Xgr\\x9eGB\\x88§UY\\x94Bxh4\\x8b\\x81¹v³2I\\x87\\x94\\x9a@«\\x93\\x82\\x91P¨¿S\\x80\\x86'\\x84Ev4\\x9bt\\xa0\\x94\\x858³\\x80 ·l½¬DDznX)µ¡E,\\x97\\x89\\xa0³H\\x938\\x95s\", [5]], [\"¿¿0\\x95µN6O¡¬\\x97o¨L\\x9e?\\x87Xgr\\x9eGB\\x88§UY\\x94Bxh4\\x8b\\x81¹v³2I\\x87\\x94\\x9a@«\\x93\\x82\\x91P¨¿S\\x80\\x86'\\x84Ev4\\x9bt\\xa0\\x94\\x858³\\x80 ·l½¬DDznX)µ¡E,\\x97\\x89\\xa0³H\\x938\\x95s\", [5]], [\"¿¿0\\x95µN6O¡¬\\x97o¨L\\x9e?\\x87Xgr\\x9eGB\\x88§UY\\x94Bxh4\\x8b\\x81¹v³2I\\x87\\x94\\x9a@«\\x93\\x82\\x91P¨¿S\\x80\\x86'\\x84Ev4\\x9bt´\\x94\\x858³\\x80 ·l½¬DDznX)µ¡E,\\x97\\x89\\xa0³H\\x938\\x95s\", [5]]]\n",
            "Iter: 1827 [[\"¿¿0\\x95µN6M¡¬\\x97o¨L\\x9e?\\x87X.r\\x9eGB\\x88§UY\\x94Bxh4\\x8b\\x81¹v³2I\\x87\\x94\\x9a@«\\x93\\x82\\x91P¨¿S\\x80\\x86'\\x84Ev4\\x9bt\\xa0\\x94s8³\\x80 ·l½¬DDznX)µ¡E,\\x97\\x89\\xa0³H\\x938\\x95s\", [7]], [\"¿¿0\\x95µN6M¡¬\\x97o¨L\\x9e?\\x87Xgr\\x9eGB\\x88§UY\\x94Bxh4\\x8b\\x81¹v³2I\\x87\\x94\\x9a@«\\x93\\x82\\x91P¨¿S\\x80\\x86'\\x84Ev4\\x9bt\\xa0\\x94\\x858³\\x80 ·l½¬DDznX)µ¡E,\\x97\\x89\\xa0³H\\x938\\x95s\", [6]], [\"¿¿0\\x95µN6M¡¬\\x97o¨L\\x9e?\\x87Xgr\\x9eGB\\x88§UY\\x94Bxh4\\x8b\\x81¹v³2I\\x87\\x94\\x9a@«\\x93\\x82\\x91P¨¿S\\x80\\x86'\\x84Ev4\\x9bt\\xa0\\x94\\x858³\\x80 ·l½¬DDznX)µ¡E,\\x97\\x89\\xa0³H\\x938\\x95s\", [6]], [\"¿¿0\\x95µN6M¡¬\\x97o¨L\\x9e?\\x87Xgr\\x9eGB\\x88§UY\\x94Bxh4\\x8b\\x81¹v³2I\\x87\\x94\\x9a@«\\x93\\x82\\x91P¨¿S\\x80\\x86'\\x84Ev4\\x9bt\\xa0\\x94\\x858³\\x80 ·l½¬DDznX)µ¡E,\\x97\\x89\\xa0³H\\x938\\x95s\", [6]]]\n",
            "Iter: 2395 [[\"¿¿0\\x95µ!6M¡¬\\x97o¨L\\x9e?\\x87X.r\\x9eGB\\x88§UY\\x94Bxh4\\x8b\\x81¹v³2I\\x87\\x94\\x9a@«\\x93\\x82\\x91P¨¿S\\x80\\x86'\\x84Ev4\\x9bt\\xa0\\x94s8³\\x80 ·l½¬DDznX)µ¡E,\\x97\\x89\\xa0³H\\x938\\x95s\", [8]], [\"¿¿0\\x95µN6M¡¬\\x97o¨L\\x9e?\\x87X.r\\x9eGB\\x88§UY\\x94Bxh4\\x8b\\x81¹v³2I\\x87\\x94\\x9a@«\\x93\\x82\\x91P¨¿S\\x80\\x86'\\x84Ev4\\x9bt\\xa0\\x94s8³\\x80 ·l½¬DDznX)µ¡E,\\x97\\x89\\xa0³H\\x938\\x95s\", [7]], [\"¿¿0\\x95µN6M¡¬\\x97o¨L\\x9e?\\x87X.r\\x9eGB\\x88§UY\\x94Bxh4\\x8b\\x81¹v³2I\\x87\\x94\\x9a@«\\x93\\x82\\x91P¨¿S\\x80\\x86'\\x84Ev4\\x9bt\\xa0\\x94s8³\\x80 ·l½¬DDznX)µ¡E,\\x97\\x89\\xa0³H\\x938\\x95s\", [7]], [\"¿¿0\\x95µN6M¡¬\\x97o¨L\\x9e?\\x87X.r\\x9eGB\\x88§UY\\x94Bxh4\\x8b\\x81¹v³2I\\x87\\x94\\x9a@«\\x93\\x82\\x91P¨¿S\\x80\\x86'\\x84Ev4\\x9bt\\xa0\\x94s8³\\x80 ·l½¬DDznX)µ¡E,\\x97\\x89\\xa0³H\\x938\\x95s\", [7]]]\n",
            "Iter: 2457 [[\"¿¿0\\x95µ!6M¡¬\\x97o¨L\\x9e?\\x87X.r\\x9eGB\\x88§UY\\x94Bxh4\\x8b\\x81¹v³2I\\x87\\x94\\x9a@«\\x93\\x82\\x91P¨¿S\\x80\\x86'\\x84Ev4\\x9bt\\xa0\\x94s8³\\x80 ·l½¬DDenX)µ¡E,\\x97\\x89\\xa0³H«8\\x95s\", [9]], [\"¿¿0\\x95µ!6M¡¬\\x97o¨L\\x9e?\\x87X.r\\x9eGB\\x88§UY\\x94Bxh4\\x8b\\x81¹v³2I\\x87\\x94\\x9a@«\\x93\\x82\\x91P¨¿S\\x80\\x86'\\x84Ev4\\x9bt\\xa0\\x94s8³\\x80 ·l½¬DDznX)µ¡E,\\x97\\x89\\xa0³H\\x938\\x95s\", [8]], [\"¿¿0\\x95µ!6M¡¬\\x97o¨L\\x9e?\\x87X.r\\x9eGB\\x88§UY\\x94Bxh4\\x8b\\x81¹v³2I\\x87\\x94\\x9a@«\\x93\\x82\\x91P¨¿S\\x80\\x86'\\x84Ev4\\x9bt\\xa0\\x94s8³\\x80 ·l½¬DDznX)µ¡E,\\x97\\x89\\xa0³H\\x938\\x95s\", [8]], [\"¿¿0\\x95µ!6M¡¬\\x97o¨L\\x9e?\\x87X.r\\x9eGB\\x88§UY\\x94Bxh4\\x8b\\x81¹v³2I\\x87\\x94\\x9a@«\\x93\\x82\\x91P¨¿S\\x80\\x86'\\x84Ev4\\x9bt\\xa0\\x94s8³\\x80 ·l½¬DDznX)µ¡E,\\x97\\x89\\xa0³H«8\\x95s\", [8]]]\n",
            "Iter: 2758 [[\"¿¿0\\x95µ!6M¡¬\\x97o¨L\\x9e?\\x87X.r\\x9eGB\\x88§UY\\x94Bxh4\\x8b\\x81¹v³2I \\x94\\x9a@«\\x93\\x82\\x91P¨¿S\\x80\\x86'\\x84Ev4\\x9bt\\xa0\\x94s8³\\x80 ·l½¬DDenX)µ¡E,\\x97\\x89\\xa0³H«8\\x95s\", [10]], [\"¿¿0\\x95µ!6M¡¬\\x97o¨L\\x9e?\\x87X.r\\x9eGB\\x88§UY\\x94Bxh4\\x8b\\x81¹v³2I\\x87\\x94\\x9a@«\\x93\\x82\\x91P¨¿S\\x80\\x86'\\x84Ev4\\x9bt\\xa0\\x94s8³\\x80 ·l½¬DDenX)µ¡E,\\x97\\x89\\xa0³H«8\\x95s\", [9]], [\"¿¿0\\x95µ!6M¡¬\\x97o¨L\\x9e?\\x87X.r\\x9eGB\\x88§UY\\x94Bxh4\\x8b\\x81¹v³2I\\x87\\x94\\x9a@«\\x93\\x82\\x91P¨¿S\\x80\\x86'\\x84Ev4\\x9bt\\xa0\\x94s8³\\x80 ·l½¬DDenX)µ¡E,\\x97\\x89\\xa0³H«8\\x95s\", [9]], [\"¿¿0\\x95µ!6M¡¬\\x97o¨L\\x9e?*X.r\\x9eGB\\x88§UY\\x94Bxh4\\x8b\\x81¹v³2I\\x87\\x94\\x9a@«\\x93\\x82\\x91P¨¿S\\x80\\x86'\\x84Ev4\\x9bt\\xa0\\x94s8³\\x80 ·l½¬DDenX)µ¡E,\\x97\\x89\\xa0³H«8\\x95s\", [9]]]\n",
            "Iter: 2859 [[\"¿¿0\\x95µ!6M¡¬\\x97o¨L\\x9e?\\x87X.r\\x9eGB\\x88§UY\\x94Bxh4\\x8b\\x81¹v³2I \\x94\\x9a@d\\x93\\x82\\x91P¨¿S\\x80\\x86'\\x84Ev4\\x9bt\\xa0\\x94s8³\\x80 ·l½¬DDenX)µ¡E,\\x97\\x89\\xa0³H«8\\x95s\", [11]], [\"¿¿0\\x95µ!6M¡¬\\x97o¨L\\x9e?\\x87X.r\\x9eGB\\x88§UY\\x94Bxh4\\x8b\\x81¹v³2I \\x94\\x9a@«\\x93\\x82\\x91P¨¿S\\x80\\x86'\\x84Ev4\\x9bt\\xa0\\x94s8³\\x80 ·l½¬DDenX)µ¡E,\\x97\\x89\\xa0³H«8\\x95s\", [10]], [\"¿¿0\\x95µ!6M¡¬\\x97o¨L\\x9e?\\x87X.r\\x9eGB\\x88§UY\\x94Bxh4\\x8b\\x81¹v³2I \\x94\\x9a@«\\x93\\x82\\x91P¨¿S\\x80\\x86'\\x84Ev4\\x9bt\\xa0\\x94s8³\\x80 ·l½¬DDenX)µ¡E\\x90\\x97\\x89\\xa0³H«8\\x95s\", [10]], [\"¿¿0\\x95µ!6M¡¬\\x97o¨L\\x9e?\\x87X.r\\x9eGB\\x88§UY\\x94Bxh4\\x8b\\x81¹v³2I \\x94\\x9a@«\\x93\\x82\\x91P¨¿S\\x80\\x86'\\x84Ev4\\x9bt\\xa0\\x94s8³\\x80 ·l½¬DDenX)µ¡E\\x90\\x97\\x89\\xa0³H«8\\x95s\", [10]]]\n",
            "Iter: 2862 [[\"¿¿0\\x95µ!6M¡¬\\x97o¨L\\x9e?\\x87XAr\\x9eGB\\x88§UY\\x94Bxh4\\x8b\\x81¹v³2I \\x94\\x9a@d\\x93\\x82\\x91P¨¿S\\x80\\x86'\\x84Ev4\\x9bt\\xa0\\x94s8³\\x80 ·l½¬DDenX)µ¡E,\\x97\\x89\\xa0³H«8\\x95s\", [12]], [\"¿¿0\\x95µ!6M¡¬\\x97o¨L\\x9e?\\x87X.r\\x9eGB\\x88§UY\\x94Bxh4\\x8b\\x81¹v³2I \\x94\\x9a@d\\x93\\x82\\x91P¨¿S\\x80\\x86'\\x84Ev4\\x9bt\\xa0\\x94s8³\\x80 ·l½¬DDenX)µ¡E,\\x97\\x89\\xa0³H«8\\x95s\", [11]], [\"¿¿0\\x95µ!6M¡¬\\x97o¨L\\x9e?\\x87X.r\\x9eGB\\x88§UY\\x94Bxh4\\x8b\\x81¹v³2I \\x94\\x9a@d\\x93\\x82\\x91P¨¿S\\x80\\x86'\\x84Ev4\\x9bt\\xa0\\x94s8³\\x80 ·l½¬DDenX)µ¡E,\\x97\\x89\\xa0³H«8\\x95s\", [11]], [\"¿¿0\\x95µ!6M¡¬\\x97o¨L\\x9e?\\x87X.r\\x9eGB\\x88§UY\\x94Bxh4\\x8b\\x81¹v³2I \\x94\\x9a@«\\x93\\x82\\x91P¨¿S\\x80\\x86'\\x84Ev4\\x9bt\\xa0\\x94s8³\\x80 ·l½¬DDenX)µ¡E,\\x97\\x89\\xa0³H«8\\x95s\", [10]]]\n",
            "Iter: 3031 [[\"¿¿0\\x95µ!6M¡¬\\x97o¨L\\x9e?\\x87XAr\\x9eGB\\x88§UY\\x94Bxh4\\x8b\\x81ov³\\xadI \\x94\\x9a@d\\x93\\x82\\x91P¨¿S\\x80\\x86'\\x84Ev4\\x9bt\\xa0\\x94s8³\\x80 ·l½¬DDenX)µ¡E,\\x97\\x89\\xa0³H«8\\x95s\", [13]], [\"¿¿0\\x95µ!6M¡¬\\x97o¨L\\x9e?\\x87XAr\\x9eGB\\x88§UY\\x94Bxh4\\x8b\\x81¹v³2I \\x94\\x9a@d\\x93\\x82\\x91P¨¿S\\x80\\x86'\\x84Ev4\\x9bt\\xa0\\x94s8³\\x80 ·l½¬DDenX)µ¡E,\\x97\\x89\\xa0³H«8\\x95s\", [12]], [\"¿¿0\\x95µ!6M¡¬\\x97o¨L\\x9e?\\x87XAr\\x9eGB\\x88§UY\\x94Bxh4\\x8b\\x81¹v³2I \\x94\\x9a@d\\x93\\x82\\x91P¨¿S\\x80\\x86'\\x84Ev4\\x9bt\\xa0\\x94s8³\\x80 ·l½¬DDenX)µ¡E,\\x97\\x89\\xa0³H«8\\x95s\", [12]], [\"¿¿0\\x95µ!6M¡¬\\x97o¨L\\x9e?\\x87XAr\\x9eGB\\x88§UY\\x94Bxh4\\x8b\\x81¹v³\\xadI \\x94\\x9a@d\\x93\\x82\\x91P¨¿S\\x80\\x86'\\x84Ev4\\x9bt\\xa0\\x94s8³\\x80 ·l½¬DDenX)µ¡E,\\x97\\x89\\xa0³H«8\\x95s\", [12]]]\n",
            "Iter: 3292 [[\"¿¿0\\x95µ!6M¡¬\\x97o¨L\\x9e?\\x87XAr\\x9eGB\\x88§UY\\x94Bxh4\\x8b\\x81ov³\\xadI \\x94\\x9a@d\\x93\\x82\\x91P¨¿S\\x80\\x86'\\x84Ev4\\x9bt\\xa0\\x94s8³s ·l½¬DDenX)µ¡E,\\x97\\x89\\xa0³H«8\\x95s\", [14]], [\"¿¿0\\x95µ!6M¡¬\\x97o¨L\\x9e?\\x87XAr\\x9eGB\\x88§UY\\x94Bxh4\\x8b\\x81ov³\\xadI \\x94\\x9a@d\\x93\\x82\\x91P¨¿S\\x80\\x86'\\x84Ev4\\x9bt\\xa0\\x94s8³\\x80 ·l½¬DDenX)µ¡E,\\x97\\x89\\xa0³H«8\\x95s\", [13]], [\"¿¿0\\x95µ!6M¡¬\\x97o¨L\\x9e?\\x87XAr\\x9eGB\\x88§UY\\x94Bxh4\\x8b\\x81ov³\\xadI \\x94\\x9a@d\\x93\\x82\\x91P¨¿S\\x80\\x86'\\x84Ev4\\x9bt\\xa0\\x94s8³\\x80 ·l½¬DDenX)µ¡E,\\x97\\x89\\xa0³H«8\\x95s\", [13]], [\"¿¿0\\x95µ!6M¡¬\\x97o¨L\\x9e?\\x87XAr\\x9eGB\\x88§UY\\x94Bxh4\\x8b\\x81ov³\\xadI \\x94X@d\\x93\\x82\\x91P¨¿S\\x80\\x86'\\x84Ev4\\x9bt\\xa0\\x94s8³\\x80 ·l½¬DDenX)µ¡E,\\x97\\x89\\xa0³H«8\\x95s\", [13]]]\n",
            "Iter: 3820 [[\"¿¿0\\x95µ!6M¡¬\\x97o¨L\\x9e?\\x87XAr\\x9eGBm§UY\\x94Bxh4\\x8b\\x81ov³\\xadI \\x94\\x9a@d\\x93\\x82\\x91P¨¿S\\x80\\x86'\\x84Ev4\\x9bt\\xa0\\x94s8³s ·l½¬DDenX)µ¡E,\\x97\\x89\\xa0³H«8\\x95s\", [15]], [\"¿¿0\\x95µ!6M¡¬\\x97o¨L\\x9e?\\x87XAr\\x9eGB\\x88§UY\\x94Bxh4\\x8b\\x81ov³\\xadI \\x94\\x9a@d\\x93\\x82\\x91P¨¿S\\x80\\x86'\\x84Ev4\\x9bt\\xa0\\x94s8³s ·l½¬DDenX)µ¡E,\\x97\\x89\\xa0³H«8\\x95s\", [14]], [\"¿¿0\\x95µ!6M¡¬\\x97o¨L\\x9e?\\x87XAr\\x9eGB\\x88§UY\\x94Bxh4\\x8b\\x81ov³\\xadI \\x94\\x9a@d\\x93\\x82\\x91P¨¿S\\x80\\x86'\\x84Ev4\\x9bt\\xa0\\x94s8³s ·l½¬DDenX)µ¡E,\\x97\\x89\\xa0³H«8\\x95s\", [14]], [\"¿¿0\\x95µ!6M¡¬\\x97o¨L\\x9e?\\x87XAr\\x9eGB\\x88§UY\\x94Bxh4\\x8b\\x81ov³\\xadI \\x94\\x9a@d\\x93\\x82\\x91P¨¿S\\x80\\x86'\\x84Ev4\\x9bt\\xa0\\x94s8³s ·l½¬DDenX)µ¡E,\\x97\\x89\\xa0³H«8\\x95s\", [14]]]\n",
            "Iter: 4188 [[\"¿¿0\\x95µ!6M¡¬\\x97o¨L\\x9e?\\x87XAr\\x9eGBm§Ua\\x94Bxh4\\x8b½ov³\\xadI \\x94\\x9a@d\\x93\\x82\\x91P¨¿S\\x80\\x86'\\x84Ev4\\x9bt\\xa0\\x94s8³s ·l½¬DDenX)µ¡E,\\x97\\x89\\xa0³H«8\\x95s\", [16]], [\"¿¿0\\x95µ!6M¡¬\\x97o¨L\\x9e?\\x87XAr\\x9eGBm§UY\\x94Bxh4\\x8b\\x81ov³\\xadI \\x94\\x9a@d\\x93\\x82\\x91P¨¿S\\x80\\x86'\\x84Ev4\\x9bt\\xa0\\x94s8³s ·l½¬DDenX)µ¡E,\\x97\\x89\\xa0³H«8\\x95s\", [15]], [\"¿¿0\\x95µ!6M¡¬\\x97o¨L\\x9e?\\x87XAr\\x9eGBm§UY\\x94Bxh4\\x8b½ov³\\xadI \\x94\\x9a@d\\x93\\x82\\x91P¨¿S\\x80\\x86'\\x84Ev4\\x9bt\\xa0\\x94s8³s ·l½¬DDenX)µ¡E,\\x97\\x89\\xa0³H«8\\x95s\", [15]], [\"¿¿0\\x95µ!6M¡¬\\x97o¨L\\x9e?\\x87XAr\\x9eGBm§UY\\x94Bxh4\\x8b\\x81ov³\\xadI \\x94\\x9a@d\\x93\\x82\\x91P¨¿S\\x80\\x86'\\x84Ev4\\x9bt\\xa0\\x94s8³s ·l½¬DDenX)µ¡E,\\x97\\x89\\xa0³H«8\\x95s\", [15]]]\n",
            "Iter: 4411 [[\"¿e0\\x95µ!6M¡¬\\x97o¨L\\x9e?\\x87XAr\\x9eGBm§Ua\\x94Bxh4\\x8b½ov³\\xadI \\x94\\x9a@d\\x93\\x82\\x91P¨¿S\\x80\\x86'\\x84Ev4\\x9bt\\xa0\\x94s8³s ·l½¬DDenX)µ¡E,\\x97\\x89\\xa0³H«8\\x95s\", [17]], [\"¿¿0\\x95µ!6M¡¬\\x97o¨L\\x9e?\\x87XAr\\x9eGBm§Ua\\x94Bxh4\\x8b½ov³\\xadI \\x94\\x9a@d\\x93\\x82\\x91P¨¿S\\x80\\x86'\\x84Ev4\\x9bt\\xa0\\x94s8³s ·l½¬DDenX)µ¡E,\\x97\\x89\\xa0³H«8\\x95s\", [16]], [\"¿¿0\\x95µ!6M¡¬\\x97o¨L\\x9e?\\x87XAr\\x9eGBm§Ua\\x94Bxh4\\x8b½ov³\\xadI \\x94\\x9a@d\\x93\\x82\\x91P¨¿S\\x80\\x86'\\x84Ev4\\x9bt\\xa0\\x94s8³s ·l½¬DDenX)µ¡E,\\x97\\x89\\xa0³H«8\\x95s\", [16]], [\"¿¿0\\x95µ!6M¡¬\\x97o¨L\\x9e?\\x87XAr\\x9eGBm§Ua\\x94Bxh4\\x8b½ov³\\xadI \\x94\\x9a@d\\x93\\x82\\x91P¨¿S\\x80\\x86'\\x84Ev4\\x9bt\\xa0\\x94s8³s ·l½¬DDenX)µ¡E,\\x97\\x89\\xa0³H«8\\x95s\", [16]]]\n",
            "Iter: 4702 [[\"¿el\\x95µ!6M¡¬\\x97o¨L\\x9e?\\x87XAr\\x9eGBm§Ua\\x94Bxh4\\x8b½ov³\\xadI \\x94\\x9a@d\\x93\\x82\\x91P¨¿S\\x80\\x86'\\x84Ev4\\x9bt\\xa0\\x94s8³s ·l½¬DDenX)µ¡E,\\x97\\x89\\xa0³H«8\\x95s\", [18]], [\"¿e0\\x95µ!6M¡¬\\x97o¨L\\x9e?\\x87XAr\\x9eGBm§Ua\\x94Bxh4\\x8b½ov³\\xadI \\x94\\x9a@d\\x93\\x82\\x91P¨¿S\\x80\\x86'\\x84Ev4\\x9bt\\xa0\\x94s8³s ·l½¬DDenX)µ¡E,\\x97\\x89\\xa0³H«8\\x95s\", [17]], [\"¿e0\\x95µ!6M¡¬\\x97o¨L\\x9e?\\x87XAr\\x9eGBm§Ua\\x94Bxh4\\x8b½ov³\\xadI \\x94\\x9a@d\\x93\\x82\\x91P¨¿S\\x80\\x86'\\x84Ev4\\x9bt\\xa0\\x94s8³s ·l½¬DDenX)µ¡E,\\x97\\x89\\xa0³H«8\\x95s\", [17]], [\"¿e0\\x95µ!6M¡¬\\x97o¨L\\x9e?\\x87XAr\\x9eGBm§Ua\\x94Bxh4\\x8b½ov³\\xadI \\x94\\x9a@d\\x93\\x82\\x91P¨¿S\\x80\\x86'\\x84Ev4\\x9bt\\xa0\\x94s8³s ·l½¬DDenX)µ¡E,\\x97\\x89\\xa0³H«8\\x95s\", [17]]]\n",
            "Iter: 5387 [[\"¿el\\x95µ!6My¬\\x97o¨L\\x9e?\\x87XAr\\x9eGBm§Ua\\x94Bxh4\\x8b½ov³\\xadI \\x94\\x9a@d\\x93\\x82\\x91P¨¿S\\x80\\x86'\\x84Ev4\\x9bt\\xa0\\x94s8³s ·l½¬DDenX)µ¡E,\\x97\\x89\\xa0³H«8\\x95s\", [19]], [\"¿el\\x95µ!6M¡¬\\x97o¨L\\x9e?\\x87XAr\\x9eGBm§Ua\\x94Bxh4\\x8b½ov³\\xadI \\x94\\x9a@d\\x93\\x82\\x91P¨¿S\\x80\\x86'\\x84Ev4\\x9bt\\xa0\\x94s8³s ·l½¬DDenX)µ¡E,\\x97\\x89\\xa0³H«8\\x95s\", [18]], [\"¿el\\x95µ!6M¡¬\\x97o¨L\\x9e?\\x87XAr\\x9eGBm§Ua\\x94Bxh4\\x8b½ov³\\xadI \\x94\\x9a@d\\x93\\x82\\x91P¨¿S\\x80\\x86'\\x84Ev4\\x9bt\\xa0\\x94s8³s ·l½¬DDenX)µ¡E,\\x97\\x89\\xa0³H«8\\x95s\", [18]], [\"¿el\\x95µ!6M¡¬\\x97o¨L\\x9e?\\x87XAr\\x9eGBm§Ua\\x94Bxh4\\x8b½ov³\\xadI \\x94\\x9a@d\\x93\\x82\\x91P¨¿S\\x80\\x86'\\x84Ev4\\x9bt\\xa0\\x94s8³s ·l½¬DDenX)µ¡E,\\x97\\x89\\xa0³H«8\\x95s\", [18]]]\n",
            "Iter: 5410 [[\"¿el\\x95µ!6My¬\\x97o¨L\\x9e?\\x87XAr\\x9eGBm§Ma\\x94Bxh4\\x8b½ov³\\xadI \\x94\\x9a@d\\x93\\x82\\x91P¨¿S\\x80\\x86'\\x84Ev4\\x9bt\\xa0\\x94s8³s ·l½¬DDenX)µ¡E,\\x97\\x89\\xa0³H«8\\x95s\", [20]], [\"¿el\\x95µ!6My¬\\x97o¨L\\x9e?\\x87XAr\\x9eGBm§Ua\\x94Bxh4\\x8b½ov³\\xadI \\x94\\x9a@d\\x93\\x82\\x91P¨¿S\\x80\\x86'\\x84Ev4\\x9bt\\xa0\\x94s8³s ·l½¬DDenX)µ¡E,\\x97\\x89\\xa0³H«8\\x95s\", [19]], [\"¿el\\x95µ!6My¬\\x97o¨L\\x9e?\\x87XAr\\x9eGBm§Ua\\x94Bxh4\\x8b½ov³\\xadI \\x94\\x9a@d\\x93\\x82\\x91P¨¿S\\x80\\x86'\\x84Ev4\\x9bt\\xa0\\x94s8³s ·l½¬DDenX)µ¡E,\\x97\\x89\\xa0³H«8\\x95s\", [19]], [\"¿el\\x95µ!6My¬\\x97o¨L\\x9e?\\x87XAr\\x9eGBm§Ua\\x94Bxh4\\x8b½ov³\\xadI \\x94\\x9a@d\\x93\\x82\\x91P¨¿S\\x80\\x86'\\x84Ev4\\x9bt\\xa0\\x94s8³s ·l½\\x8bDDenX)µ¡E,\\x97\\x89\\xa0³H«8\\x95s\", [19]]]\n",
            "Iter: 5581 [[\"¿el\\x95µ!6My¬\\x97o¨L\\x9e?\\x87XAr\\x9eGBm§Ma\\x94Bxh4\\x8b½ov³\\xadI \\x94b@d\\x93\\x82\\x91P¨¿S\\x80\\x86'\\x84Ev4 t\\xa0\\x94s8³s ·l½¬DDenX)µ¡E,\\x97\\x89\\xa0³H«8\\x95s\", [21]], [\"¿el\\x95µ!6My¬\\x97o¨L\\x9e?\\x87XAr\\x9eGBm§Ma\\x94Bxh4\\x8b½ov³\\xadI \\x94\\x9a@d\\x93\\x82\\x91P¨¿S\\x80\\x86'\\x84Ev4\\x9bt\\xa0\\x94s8³s ·l½¬DDenX)µ¡E,\\x97\\x89\\xa0³H«8\\x95s\", [20]], [\"¿el\\x95µ!6My¬\\x97o¨L\\x9e?\\x87XAr\\x9eGBm§Ma\\x94Bxh4\\x8b½ov³\\xadI \\x94\\x9a@d\\x93\\x82\\x91P¨¿S\\x80\\x86'\\x84Ev4\\x9bt\\xa0\\x94s8³s ·l½¬DDenX)µ¡E,\\x97\\x89\\xa0³H«8\\x95s\", [20]], [\"¿el\\x95µ!6My¬\\x97o¨L\\x9e?\\x87XAr\\x9eGBm§Ma\\x94Bxh4\\x8b½ov³\\xadI \\x94\\x9a@d\\x93\\x82\\x91P¨¿S\\x80\\x86'\\x84Ev4\\x9bt\\xa0\\x94s8³s ·l½¬DDenX)µ¡E,\\x97\\x89\\xa0³H«8\\x95s\", [20]]]\n",
            "Iter: 6291 [[\"¿el\\x95µ!6My¬\\x97o¨L\\x9e?\\x87XAr\\x9eGBm§Ma\\x94Bxh4\\x8b½ov³\\xadI \\x94b@d\\x93\\x82\\x91P¨¿S\\x80\\x86'\\x84Ev4 t\\xa0\\x94s ³s ·l½¬DDenX)µ¡E,\\x97\\x89\\xa0³H«8\\x95s\", [22]], [\"¿el\\x95µ!6My¬\\x97o¨L\\x9e?\\x87XAr\\x9eGBm§Ma\\x94Bxh4\\x8b½ov³\\xadI \\x94b@d\\x93\\x82\\x91P¨¿S\\x80\\x86'\\x84Ev4 t\\xa0\\x94s8³s ·l½¬DDenX)µ¡E,\\x97\\x89\\xa0³H«8\\x95s\", [21]], [\"¿el\\x95µ!6My¬\\x97o¨L\\x9e?\\x87XAr\\x9eGBm§Ma\\x94Bxh4\\x8b½ov³\\xadI \\x94b@d\\x93\\x82\\x91P¨¿S\\x80\\x86'\\x84Ev4 t\\xa0\\x94s8³s ·l½¬DDenX)µ¡E,\\x97\\x89\\xa0³H«8\\x95s\", [21]], [\"¿el\\x95µ!6My¬\\x97o¨L\\x9e?\\x87XAr\\x9eGBm§Ma\\x94Bxh4\\x8b½ov³\\xadI \\x94b@d\\x93\\x82\\x91P¨¿S\\x80\\x86'\\x84Ev4 t\\xa0\\x94s8³s ·l½¬DDenX)µ¡E,\\x97\\x89\\xa0³H«8\\x95s\", [21]]]\n",
            "Iter: 6357 [[\"¿el\\x95µ!6My \\x97o¨L\\x9e?\\x87XAr\\x9eGBm§Ma\\x94Bxh4\\x8b½ov³\\xadI \\x94b@d\\x93\\x82\\x91P¨¿S\\x80\\x86'\\x84Ev4 t\\xa0\\x94s ³s ·l½¬DDenX)µ¡E,\\x97\\x89\\xa0³H«8\\x95s\", [23]], [\"¿el\\x95µ!6My¬\\x97o¨L\\x9e?\\x87XAr\\x9eGBm§Ma\\x94Bxh4\\x8b½ov³\\xadI \\x94b@d\\x93\\x82\\x91P¨¿S\\x80\\x86'\\x84Ev4 t\\xa0\\x94s ³s ·l½¬DDenX)µ¡E,\\x97\\x89\\xa0³H«8\\x95s\", [22]], [\"¿el\\x95µ!6My¬\\x97o¨L\\x9e?\\x87XAr\\x9eGBm§Ma\\x94Bxh4\\x8b½ov³\\xadI \\x94b@d\\x93\\x82\\x91P¨¿S\\x80\\x86'\\x84Ev4 t\\xa0\\x94s ³s ·l½¬DDenX)µ¡E,\\x97\\x89\\xa0³H«8\\x95s\", [22]], [\"¿el\\x95µ!6My¬\\x97o¨L\\x9e?\\x87XAr\\x9eGBm§Ma\\x94Bxh4\\x8b½ov³\\xadI \\x94b@d\\x93\\x82\\x91P¨¿S\\x80\\x86'\\x84Ev4 t\\xa0\\x94s ³s ·l½¬DDenX)µ¡E,\\x97\\x89\\xa0³H«8\\x95s\", [22]]]\n",
            "Iter: 6652 [[\"¿el\\x95µ!6My \\x97o¨L\\x9e?\\x87XAr\\x9eGBm§Ma\\x94Bxh4\\x8b½ov³\\xadI \\x94b@d\\x93\\x82\\x91P¨¿S\\x80\\x86'\\x84Ev4 t\\xa0\\x94s ³s ·l½¬DDenXtµ¡E,\\x97\\x89\\xa0³H«8\\x95s\", [24]], [\"¿el\\x95µ!6My \\x97o¨L\\x9e?\\x87XAr\\x9eGBm§Ma\\x94Bxh4\\x8b½ov³\\xadI \\x94b@d\\x93\\x82\\x91P¨¿S\\x80\\x86'\\x84Ev4 t\\xa0\\x94s ³s ·l½¬DDenX)µ¡E,\\x97\\x89\\xa0³H«8\\x95s\", [23]], [\"¿el\\x95µ!6My \\x97o¨L\\x9e?\\x87XAr\\x9eGBm§Ma\\x94Bxh4\\x8b½ov³\\xadI \\x94b@d\\x93\\x82\\x91P¨¿S\\x80\\x86'\\x84Ev4 t\\xa0\\x94s ³s ·l½¬DDenX)µ¡E,\\x97\\x89\\xa0³H«8\\x95s\", [23]], [\"¿el\\x95µ!6My \\x97o¨L\\x9e?\\x87XAr\\x9eGBm§Ma\\x94Bxh4\\x8b½ov³\\xadI \\x94b@d\\x93\\x82\\x91P¨¿S\\x80\\x86'\\x84Ev4 t\\xa0\\x94s ³s ·l½¬DDenX)µ¡E,\\x97\\x89\\xa0³H«8\\x95s\", [23]]]\n",
            "Iter: 6928 [[\"¿el\\x95µ!6My \\x97o¨e\\x9e?\\x87XAr\\x9eGBm§Ma\\x94Bxh4\\x8b½ov³\\xadI \\x94b@d\\x93\\x82\\x91P¨¿S\\x80\\x86'\\x84Ev4 t\\xa0\\x94s ³s ·l½¬DDenXtµ¡E,\\x97\\x89\\xa0³H«8\\x95s\", [25]], [\"¿el\\x95µ!6My \\x97o¨L\\x9e?\\x87XAr\\x9eGBm§Ma\\x94Bxh4\\x8b½ov³\\xadI \\x94b@d\\x93\\x82\\x91P¨¿S\\x80\\x86'\\x84Ev4 t\\xa0\\x94s ³s ·l½¬DDenXtµ¡E,\\x97\\x89\\xa0³H«8\\x95s\", [24]], [\"¿el\\x95µ!6My \\x97o¨L\\x9e?\\x87XAr\\x9eGBm§Ma\\x94Bxh4\\x8b½ov³\\xadI \\x94b@d\\x93\\x82\\x91P¨¿S\\x80\\x86'\\x84Ev4 t\\xa0\\x94s ³s ·l½¬DDenXtµ¡E,\\x97\\x89\\xa0³H«8\\x95s\", [24]], [\"¿el\\x95µ!6My \\x97o¨L\\x9e?\\x87XAr\\x9eGBm§Ma\\x94Bxh4\\x8b½ov³\\xadI \\x94b@d\\x93\\x82\\x91P¨¿S\\x80\\x86'\\x84Ev4 t\\xa0\\x94s ³s ·l½¬DDenXtµ¡E,\\x97\\x89\\xa0³H«8\\x95s\", [24]]]\n",
            "Iter: 7337 [[\"¿el\\x95µ!6My \\x97o¨e\\x9e?\\x87XAr\\x9eGBm Ma\\x94Bxh4\\x8b½ov³\\xadI \\x94b@d\\x93\\x82\\x91P¨¿S\\x80\\x86'\\x84Ev4 t\\xa0\\x94s ³s ·l½¬DDenXtµ¡E,\\x97\\x89\\xa0³H«8\\x95s\", [26]], [\"¿el\\x95µ!6My \\x97o¨e\\x9e?\\x87XAr\\x9eGBm§Ma\\x94Bxh4\\x8b½ov³\\xadI \\x94b@d\\x93\\x82\\x91P¨¿S\\x80\\x86'\\x84Ev4 t\\xa0\\x94s ³s ·l½¬DDenXtµ¡E,\\x97\\x89\\xa0³H«8\\x95s\", [25]], [\"¿el\\x95µ!6My \\x97o¨e\\x9e?\\x87XAr\\x9eGBm§Ma\\x94Bxh4\\x8b½ov³\\xadI \\x94b@d\\x93\\x82\\x91P¨¿S\\x80\\x86'\\x84Ev4 t\\xa0\\x94s ³s ·l½¬DDenXtµ¡E,\\x97\\x89\\xa0³H«8\\x95s\", [25]], [\"¿el\\x95µ!6My \\x97o¨e\\x9e?\\x87XAr\\x9eGBm§Ma\\x94Bx\\x884\\x8b½ov³\\xadI \\x94b@d\\x93\\x82\\x91P¨¿S\\x80\\x86'\\x84Ev4 t\\xa0\\x94s ³s ·l½¬DDenXtµ¡E,\\x97\\x89\\xa0³H«8\\x95s\", [25]]]\n",
            "Iter: 8159 [[\"¿el\\x95µ!6My \\x97o¨e\\x9e?\\x87XAr\\x9eGBm Ma\\x94Bxh4\\x8b½ov³\\xadI \\x94b@d\\x93\\x82\\x91P¨¿S\\x80\\x86'\\x84Ev4 t\\xa0\\x94s is ·l½¬/DenXtµ¡E,\\x97\\x89\\xa0³H«8\\x95s\", [27]], [\"¿el\\x95µ!6My \\x97o¨e\\x9e?\\x87XAr\\x9eGBm Ma\\x94Bxh4\\x8b½ov³\\xadI \\x94b@d\\x93\\x82\\x91P¨¿S\\x80\\x86'\\x84Ev4 t\\xa0\\x94s ³s ·l½¬DDenXtµ¡E,\\x97\\x89\\xa0³H«8\\x95s\", [26]], [\"¿el\\x95µ!6My \\x97o¨e\\x9e?\\x87XAr\\x9eGBm Ma\\x94Bxh4\\x8b½ov³\\xadI \\x94b@d\\x93\\x82\\x91P¨¿S\\x80\\x86'\\x84Ev4 t\\xa0\\x94s ³s ·l½¬/DenXtµ¡E,\\x97\\x89\\xa0³H«8\\x95s\", [26]], [\"¿el\\x95µ!6My \\x97o¨e\\x9e?\\x87XAr\\x9eGBm Ma\\x94Bxh4\\x8b½ov³\\xadI \\x94b@d\\x93\\x82\\x91P¨¿S\\x80\\x86'\\x84Ev4 t\\xa0\\x94s ³s ·l½¬/DenXtµ¡E,\\x97\\x89\\xa0³H«8\\x95s\", [26]]]\n",
            "Iter: 8656 [[\"¿el\\x95µ!6My \\x97o¨e\\x9e?\\x87XAr\\x9eGBm Ma\\x94Bxh4\\x8b½ov³\\xadI \\x94b d\\x93\\x82\\x91P¨¿S\\x80\\x86'\\x84Ev4 t\\xa0\\x94s is ·l½¬/DenXtµ¡E,\\x97\\x89\\xa0³H«8\\x95s\", [28]], [\"¿el\\x95µ!6My \\x97o¨e\\x9e?\\x87XAr\\x9eGBm Ma\\x94Bxh4\\x8b½ov³\\xadI \\x94b@d\\x93\\x82\\x91P¨¿S\\x80\\x86'\\x84Ev4 t\\xa0\\x94s is ·l½¬/DenXtµ¡E,\\x97\\x89\\xa0³H«8\\x95s\", [27]], [\"¿el\\x95µ!6My \\x97o¨e\\x9e?\\x87XAr\\x9eGBm Ma\\x94Bxh4\\x8b½ov³\\xadI \\x94b@d\\x93\\x82\\x91P¨¿S\\x80\\x86'\\x84Ev4 t\\xa0\\x94s is ·l½¬/DenXtµ¡E,\\x97\\x89\\xa0³H«8\\x95s\", [27]], [\"¿el\\x95µ!6My \\x97o¨e\\x9e?\\x87XAr\\x9eGBm Ma\\x94Bxh4\\x8b½ov³\\xadI \\x94b@d\\x93\\x82\\x91P¨¿S\\x80\\x86'\\x84Ev4 t\\xa0\\x94s is ·l½¬/DenXtµ¡E,\\x97\\x89\\xa0³H«8\\x95s\", [27]]]\n",
            "Iter: 8715 [[\"¿el\\x95µ!6My \\x97ome\\x9e?\\x87XAr\\x9eGBm Ma\\x94Bxh4\\x8b½ov³\\xadI \\x94b d\\x93\\x82\\x91P¨¿S\\x80\\x86'\\x84Ev4 t\\xa0\\x94s is ·l½¬/DenXtµ¡E,\\x97\\x89\\xa0³H«8\\x95s\", [29]], [\"¿el\\x95µ!6My \\x97o¨e\\x9e?\\x87XAr\\x9eGBm Ma\\x94Bxh4\\x8b½ov³\\xadI \\x94b d\\x93\\x82\\x91P¨¿S\\x80\\x86'\\x84Ev4 t\\xa0\\x94s is ·l½¬/DenXtµ¡E,\\x97\\x89\\xa0³H«8\\x95s\", [28]], [\"¿el\\x95µ!6My \\x97o¨e\\x9e?\\x87XAr\\x9eGBm Ma\\x94Bxh4\\x8b½ov³\\xadI \\x94b d\\x93\\x82\\x91P¨¿S\\x80\\x86'\\x84Ev4 t\\xa0\\x94s is ·l½¬/DenXtµ¡E,\\x97\\x89\\xa0³H«8\\x95s\", [28]], [\"¿el\\x95µ!6My \\x97o¨e\\x9e?\\x87XAr\\x9eGBm Ma\\x94Bxh4\\x8b½ov³\\xadI \\x94b d\\x93\\x82\\x91P¨¿S\\x80\\x86'\\x84Ev4 t\\xa0\\x94s is ·l½¬/DenXtµ¡E,\\x97\\x89\\xa0³H«8\\x95s\", [28]]]\n",
            "Iter: 9168 [[\"¿el\\x95µ!6My >ome\\x9e?\\x87XAr\\x9eGBm Ma\\x94Bxh4\\x8b½ov³\\xadI \\x94b d\\x93\\x82\\x91P¨¿S\\x80\\x86'\\x84Ev4 t\\xa0\\x94s is ·l!¬/DenXtµ¡E,\\x97\\x89\\xa0rH«8\\x95s\", [30]], [\"¿el\\x95µ!6My \\x97ome\\x9e?\\x87XAr\\x9eGBm Ma\\x94Bxh4\\x8b½ov³\\xadI \\x94b d\\x93\\x82\\x91P¨¿S\\x80\\x86'\\x84Ev4 t\\xa0\\x94s is ·l½¬/DenXtµ¡E,\\x97\\x89\\xa0³H«8\\x95s\", [29]], [\"¿el\\x95µ!6My \\x97ome\\x9e?\\x87XAr\\x9eGBm Ma\\x94Bxh4\\x8b½ov³\\xadI \\x94b d\\x93\\x82\\x91P¨¿S\\x80\\x86'\\x84Ev4 t\\xa0\\x94s is ·l½¬/DenXtµ¡E,\\x97\\x89\\xa0³H«8\\x95s\", [29]], [\"¿el\\x95µ!6My \\x97ome\\x9e?\\x87XAr\\x9eGBm Ma\\x94Bxh4\\x8b½ov³\\xadI \\x94b d\\x93\\x82\\x91P¨¿S\\x80\\x86'\\x84Ev4 t\\xa0\\x94s is ·l!¬/DenXtµ¡E,\\x97\\x89\\xa0³H«8\\x95s\", [29]]]\n",
            "Iter: 9289 [[\"¿el\\x95µ!6My >ome\\x9e?\\x87XAr\\x9eGBm Ma\\x94Bxn4\\x8b½ov³\\xadI \\x94b d\\x93\\x82\\x91P¨¿S\\x80\\x86'\\x84Ev4 t\\xa0\\x94s is ·l!¬/DenXtµ¡E,\\x97\\x89\\xa0rH«8\\x95s\", [31]], [\"¿el\\x95µ!6My >ome\\x9e?\\x87XAr\\x9eGBm Ma\\x94Bxh4\\x8b½ov³\\xadI \\x94b d\\x93\\x82\\x91P¨¿S\\x80\\x86'\\x84Ev4 t\\xa0\\x94s is ·l!¬/DenXtµ¡E,\\x97\\x89\\xa0rH«8\\x95s\", [30]], [\"¿el\\x95µ!6My >ome\\x9e?\\x87XAr\\x9eGBm Ma\\x94Bxh4\\x8b½ov³\\xadI \\x94b d\\x93\\x82\\x91P¨¿S\\x80\\x86'\\x84Ev4 t\\xa0\\x94s is ·l!¬/DenXtµ¡E,\\x97\\x89\\xa0rH«8\\x95s\", [30]], [\"¿el\\x95µ!6My >ome\\x9e?\\x87XAr\\x9eGBm Ma\\x94Bxh4\\x8b½ov³\\xadI \\x94b d\\x93\\x82\\x91P¨¿S\\x80\\x86'\\x84Ev4 t\\xa0\\x94s is ·l!¬/DenXtµ¡E,\\x97\\x89\\xa0rH«8\\x95s\", [30]]]\n",
            "Iter: 9295 [[\"Hel\\x95µ!6My >ome\\x9e?\\x87XAr\\x9eGBm Ma\\x94Bxn4\\x8b½ov³\\xadI \\x94b d\\x93\\x82\\x91P¨¿S\\x80\\x86'\\x84Ev4 t\\xa0\\x94s is ·l!¬/DenXtµ¡E,\\x97\\x89\\xa0rH«8\\x95s\", [32]], [\"¿el\\x95µ!6My >ome\\x9e?\\x87XAr\\x9eGBm Ma\\x94Bxn4\\x8b½ov³\\xadI \\x94b d\\x93\\x82\\x91P¨¿S\\x80\\x86'\\x84Ev4 t\\xa0\\x94s is ·l!¬/DenXtµ¡E,\\x97\\x89\\xa0rH«8\\x95s\", [31]], [\"¿el\\x95µ!6My >ome\\x9e?\\x87XAr\\x9eGBm Ma\\x94Bxn4\\x8b½ov³\\xadI \\x94b d\\x93\\x82\\x91P¨¿S\\x80\\x86'\\x84Ev4 t\\xa0\\x94s is ·l!¬/DenXtµ¡E,\\x97\\x89\\xa0rH«8\\x95s\", [31]], [\"¿el\\x95µ!6My >ome\\x9e?\\x87XAr\\x9eGBm Ma\\x94Bxh4\\x8b½ov³\\xadI \\x94b d\\x93\\x82\\x91P¨¿S\\x80\\x86'\\x84Ev4 t\\xa0\\x94s is ·l!¬/DenXtµ¡E,\\x97\\x89\\xa0rH«8\\x95s\", [30]]]\n",
            "Iter: 9474 [[\"Hel\\x95µ!6My >ome\\x9e?\\x87XAr\\x9eGBm Ma\\x94lxn4\\x8b½ov³\\xadI \\x94b d\\x93\\x82\\x91P¨¿S\\x80\\x86'\\x84Ev4 t\\xa0\\x94s is ·l!¬/DenXtµ¡E,\\x97\\x89\\xa0rH«z\\x95s\", [33]], [\"Hel\\x95µ!6My >ome\\x9e?\\x87XAr\\x9eGBm Ma\\x94Bxn4\\x8b½ov³\\xadI \\x94b d\\x93\\x82\\x91P¨¿S\\x80\\x86'\\x84Ev4 t\\xa0\\x94s is ·l!¬/DenXtµ¡E,\\x97\\x89\\xa0rH«8\\x95s\", [32]], [\"Hel\\x95µ!6My >ome\\x9e?\\x87XAr\\x9eGBm Ma\\x94Bxn4\\x8b½ov³\\xadI \\x94b d\\x93\\x82\\x91P¨¿S\\x80\\x86'\\x84Ev4 t\\xa0\\x94s is ·l!¬/DenXtµ¡E,\\x97\\x89\\xa0rH«8\\x95s\", [32]], [\"Hel\\x95µ!6My >ome\\x9e?\\x87XAr\\x9eGBm Ma\\x94Bxn4\\x8b½ov³\\xadI \\x94b d\\x93\\x82\\x91P¨¿S\\x80\\x86'\\x84Ev4 t\\xa0\\x94s is ·l!¬/DenXtµ¡E,\\x97\\x89\\xa0rH«z\\x95s\", [32]]]\n",
            "Iter: 11171 [[\"Hel\\x95µ!6My >ome\\x9e?\\x87XAr\\x9eGBm Ma\\x94lxn4\\x8b½ov³\\xadI \\x94b d\\x93\\x82\\x91P¨¿S\\x80\\x86'\\x84sv4 t\\xa0\\x94s is ·l!¬/DenXtµ¡E,\\x97\\x89\\xa0rH«z\\x95s\", [34]], [\"Hel\\x95µ!6My >ome\\x9e?\\x87XAr\\x9eGBm Ma\\x94lxn4\\x8b½ov³\\xadI \\x94b d\\x93\\x82\\x91P¨¿S\\x80\\x86'\\x84Ev4 t\\xa0\\x94s is ·l!¬/DenXtµ¡E,\\x97\\x89\\xa0rH«z\\x95s\", [33]], [\"Hel\\x95µ!6My >ome\\x9e?\\x87XAr\\x9eGBm Ma\\x94lxn4\\x8b½ov³\\xadI \\x94b d\\x93\\x82\\x91P¨¿S\\x80\\x86'\\x84Ev4 t\\xa0\\x94s is ·l!¬/DenXtµ¡E,\\x97\\x89\\xa0rH«z\\x95s\", [33]], [\"Hel\\x95µ!6My >ome\\x9e?\\x87XAr\\x9eGBm Ma\\x94lxn4\\x8b½ov³\\xadI \\x94b d\\x93\\x82\\x91P¨¿S\\x80\\x86'\\x84Ev4 t\\xa0\\x94s is ·l!¬/DenXtµ¡E,\\x97\\x89\\xa0rH«z\\x95s\", [33]]]\n",
            "Iter: 11196 [[\"Hel\\x95µ!6My nome\\x9e?\\x87XAr\\x9eGBm Ma\\x94lxn4\\x8b½ov³\\xadI \\x94b d\\x93\\x82\\x91P¨¿S\\x80\\x86'\\x84sv4 t\\xa0\\x94s is ·l!¬/DenXtµ¡E,\\x97\\x89\\xa0rH«z\\x95s\", [35]], [\"Hel\\x95µ!6My >ome\\x9e?\\x87XAr\\x9eGBm Ma\\x94lxn4\\x8b½ov³\\xadI \\x94b d\\x93\\x82\\x91P¨¿S\\x80\\x86'\\x84sv4 t\\xa0\\x94s is ·l!¬/DenXtµ¡E,\\x97\\x89\\xa0rH«z\\x95s\", [34]], [\"Hel\\x95µ!6My >ome\\x9e?\\x87XAr\\x9eGBm Ma\\x94lxn4\\x8b½ov³\\xadI \\x94b d\\x93\\x82\\x91P¨¿S\\x80\\x86'\\x84sv4 t\\xa0\\x94s is ·l!¬/DenXtµ¡E,\\x97\\x89\\xa0rH«z\\x95s\", [34]], [\"Hel\\x95µ!6My >ome\\x9e?\\x87XAr\\x9eGBm Ma\\x94lxn4\\x8b½ov³\\xadI \\x94b d\\x93\\x82\\x91P¨¿S\\x80\\x86'\\x84sv4 t\\xa0\\x94s is ·l!¬/DenXtµ¡E,\\x97\\x89\\xa0rH«z\\x95s\", [34]]]\n",
            "Iter: 11291 [[\"Hel\\x95µ!6My nome\\x9e?\\x87XAr\\x9eGBm Ma\\x94lxn4\\x8b½ov³\\xadI \\x94b d\\x93\\x82\\x91P¨¿S\\x80\\x86'\\x84sv4 th\\x94s is ·l!¬/DenXtµ¡E,\\x97\\x89\\xa0rH«z\\x95s\", [36]], [\"Hel\\x95µ!6My nome\\x9e?\\x87XAr\\x9eGBm Ma\\x94lxn4\\x8b½ov³\\xadI \\x94b d\\x93\\x82\\x91P¨¿S\\x80\\x86'\\x84sv4 t\\xa0\\x94s is ·l!¬/DenXtµ¡E,\\x97\\x89\\xa0rH«z\\x95s\", [35]], [\"Hel\\x95µ!6My nome\\x9e?\\x87XAr\\x9eGBm Ma\\x94lxn4\\x8b½ov³\\xadI \\x94b d\\x93\\x82\\x91P¨¿S\\x80\\x86'\\x84sv4 t\\xa0\\x94s is ·l!¬/DenXtµ¡E,\\x97\\x89\\xa0rH«z\\x95s\", [35]], [\"Hel\\x95µ!6My nome\\x9e?\\x87XAr\\x9eGBm Ma\\x94lxn4\\x8b½ov³\\xadI \\x94b d\\x93\\x82\\x91P¨¿S\\x80\\x86'\\x84sv4 t\\xa0\\x94s is ·l!¬/DenXtµ¡E,\\x97\\x89\\xa0rH«z\\x95s\", [35]]]\n",
            "Iter: 11324 [[\"Hel\\x95µ!6My nome ?\\x87XAr\\x9eGBm Ma\\x94lxn4\\x8b½ov³\\xadI \\x94b d\\x93\\x82\\x91P¨¿S\\x80\\x86'\\x84sv4 th\\x94s is ·l!¬/DenXtµ¡E,\\x97\\x89\\xa0rH«z\\x95s\", [37]], [\"Hel\\x95µ!6My nome\\x9e?\\x87XAr\\x9eGBm Ma\\x94lxn4\\x8b½ov³\\xadI \\x94b d\\x93\\x82\\x91P¨¿S\\x80\\x86'\\x84sv4 th\\x94s is ·l!¬/DenXtµ¡E,\\x97\\x89\\xa0rH«z\\x95s\", [36]], [\"Hel\\x95µ!6My nome\\x9e?\\x87XAr\\x9eGBm Ma\\x94lxn4\\x8b½ov³\\xadI \\x94b d\\x93\\x82\\x91P¨¿S\\x80\\x86'\\x84sv4 th\\x94s is ·l!¬/DenXtµ¡E,\\x97\\x89\\xa0rH«z\\x95s\", [36]], [\"Hel\\x95µ!6My nome\\x9e?\\x87XAr\\x9eGBm Ma\\x94lxn4\\x8b½ov³\\xadI \\x94b d\\x93\\x82\\x91P¨¿S\\x80\\x86'\\x84sv4 th\\x94s is ·l!¬/DenXtµ¡E,\\x97\\x89\\xa0rH«z\\x95s\", [36]]]\n",
            "Iter: 11394 [[\"Hel\\x95µ!6My nome ?\\x87XAr\\x9eGBm Ma\\x94lxn4\\x8b½ov³\\xadI \\x94b d\\x93\\x82\\x91P¨¿S\\x80\\x86'\\x84sv4 th\\x94s is ·l!¬ DenXtµ¡E,\\x97\\x89\\xa0rH«z\\x95s\", [38]], [\"Hel\\x95µ!6My nome ?\\x87XAr\\x9eGBm Ma\\x94lxn4\\x8b½ov³\\xadI \\x94b d\\x93\\x82\\x91P¨¿S\\x80\\x86'\\x84sv4 th\\x94s is ·l!¬/DenXtµ¡E,\\x97\\x89\\xa0rH«z\\x95s\", [37]], [\"Hel\\x95µ!6My nome ?\\x87XAr\\x9eGBm Ma\\x94lxn4\\x8b½ov³\\xadI \\x94b d\\x93\\x82\\x91P¨¿S\\x80\\x86'\\x84sv4 th\\x94s is ·l!¬/DenXtµ¡E,\\x97\\x89\\xa0rH«z\\x95s\", [37]], [\"Hel\\x95µ!6My nome ?\\x87XAr\\x9eGBm Ma\\x94lxn4\\x8b½ov³\\xadI \\x94b d\\x93\\x82\\x91P¨¿S\\x80\\x86'\\x84sv4 th\\x94s is ·l!¬/DenXtµ¡E,\\x97\\x89\\xa0rH«z\\x95s\", [37]]]\n",
            "Iter: 11519 [['Hel\\x95µ!6My nome ?\\x87XAr\\x9eGBm Ma\\x94lxn4\\x8b½ov³\\xadI \\x94b d\\x93\\x82\\x91P¨¿S\\x80\\x86t\\x84sv4 th\\x94s is ·l!¬ DenXtµ¡E,\\x97\\x89\\xa0rH«z\\x95s', [39]], [\"Hel\\x95µ!6My nome ?\\x87XAr\\x9eGBm Ma\\x94lxn4\\x8b½ov³\\xadI \\x94b d\\x93\\x82\\x91P¨¿S\\x80\\x86'\\x84sv4 th\\x94s is ·l!¬ DenXtµ¡E,\\x97\\x89\\xa0rH«z\\x95s\", [38]], [\"Hel\\x95µ!6My nome ?\\x87XAr\\x9eGBm Ma\\x94lxn4\\x8b½ov³\\xadI \\x94b d\\x93\\x82\\x91P¨¿S\\x80\\x86'\\x84sv4 th\\x94s is ·l!¬ DenXtµ¡E,\\x97\\x89\\xa0rH«z\\x95s\", [38]], [\"Hel\\x95µ!6My nome ?\\x87XAr\\x9eGBm Ma\\x94lxn4\\x8b½ov³\\xadI \\x94b d\\x93\\x82\\x91P¨¿S\\x80\\x86'\\x84sv4 th\\x94s is ·l!¬ DenXtµ¡E,\\x97\\x89\\xa0rH«z\\x95s\", [38]]]\n",
            "Iter: 11610 [['Hel\\x95µ!6My nome ?\\x87XAr\\x9eGBm Ma\\x94lxn4\\x8b½ov³\\xadI \\x94b d\\x93\\x82\\x91P¨¿S\\x80\\x86t\\x84sv4 th\\x94s is ·A!¬ DenXtµ¡E,\\x97\\x89\\xa0rH«z\\x95s', [40]], ['Hel\\x95µ!6My nome ?\\x87XAr\\x9eGBm Ma\\x94lxn4\\x8b½ov³\\xadI \\x94b d\\x93\\x82\\x91P¨¿S\\x80\\x86t\\x84sv4 th\\x94s is ·l!¬ DenXtµ¡E,\\x97\\x89\\xa0rH«z\\x95s', [39]], ['Hel\\x95µ!6My nome ?\\x87XAr\\x9eGBm Ma\\x94lxn4\\x8b½ov³\\xadI \\x94b d\\x93\\x82\\x91P¨¿S\\x80\\x86t\\x84sv4 th\\x94s is ·l!¬ DenXtµ¡E,\\x97\\x89\\xa0rH«z\\x95s', [39]], ['Hel\\x95µ!6My nome ?\\x87XAr\\x9eGBm Ma\\x94lxn4\\x8b½ov³\\xadI \\x94b d\\x93\\x82\\x91P¨¿S\\x80\\x86tcsv4 th\\x94s is ·l!¬ DenXtµ¡E,\\x97\\x89\\xa0rH«z\\x95s', [39]]]\n",
            "Iter: 11644 [['Hel\\x95µ!6My nome ?\\x87XAr\\x9eGBm Ma\\x94lxn4\\x8b½ov³\\xadI \\x94b d\\x93\\x82\\x91P¨¿S\\x80\\x86t\\x84sv4 th\\x94s is ·A!¬ DenXtµ¡E,\\x97\\x89\\xa0rHtz\\x95s', [41]], ['Hel\\x95µ!6My nome ?\\x87XAr\\x9eGBm Ma\\x94lxn4\\x8b½ov³\\xadI \\x94b d\\x93\\x82\\x91P¨¿S\\x80\\x86t\\x84sv4 th\\x94s is ·A!¬ DenXtµ¡E,\\x97\\x89\\xa0rH«z\\x95s', [40]], ['Hel\\x95µ!6My nome ?\\x87XAr\\x9eGBm Ma\\x94lxn4\\x8b½ov³\\xadI \\x94b d\\x93\\x82\\x91P¨¿S\\x80\\x86t\\x84sv4 th\\x94s is ·A!¬ DenXtµ¡E,\\x97\\x89\\xa0rH«z\\x95s', [40]], ['Hel\\x95µ!6My nome ?\\x87XAr\\x9eGBm Ma\\x94lxn4\\x8b½ov³\\xadI \\x94b d\\x93\\x82\\x91P¨¿S\\x80\\x86t\\x84sv4 th\\x94s is ·A!¬ DenXtµ¡E,\\x97\\x89\\xa0rH«z\\x95s', [40]]]\n",
            "Iter: 12717 [['Hel\\x95µ!6My nome ?\\x87XAr\\x9eGBm Ma\\x94lxn4\\x8b½ov³\\xadI \\x94b d\\x93\\x82\\x91P¨¿S\\x80\\x86t\\x84sv4 th\\x94s is ·A!¬ DenXtµ¡E,\\x97\\x89\\xa0rHtzms', [42]], ['Hel\\x95µ!6My nome ?\\x87XAr\\x9eGBm Ma\\x94lxn4\\x8b½ov³\\xadI \\x94b d\\x93\\x82\\x91P¨¿S\\x80\\x86t\\x84sv4 th\\x94s is ·A!¬ DenXtµ¡E,\\x97\\x89\\xa0rHtz\\x95s', [41]], ['Hel\\x95µ!6My nome ?\\x87XAr\\x9eGBm Ma\\x94lxn4\\x8b½ov³\\xadI \\x94b d\\x93\\x82\\x91P¨¿S\\x80\\x86t\\x84sv4 th\\x94s is ·A!¬ DenXtµ¡E,\\x97\\x89\\xa0rHtz\\x95s', [41]], ['Hel\\x95µ!6My nome ?\\x87XAr\\x9eGBm Ma\\x94lxn4\\x8b½ov³\\xadI \\x94b d\\x93\\x82\\x91P¨¿S\\x80\\x86t\\x84sv4 th\\x94s is ·A!¬ DenXtµ¡E,\\x97\\x89\\xa0rHtz\\x95s', [41]]]\n",
            "Iter: 13130 [['Hel\\x95µ!6My nome ?\\x87XAr\\x9eGBm Ma\\x94lxn4\\x8b½ov³\\xadI \\x94b d\\x93\\x82\\x91P¨¿S\\x80\\x86t\\x84sv4 th\\x94s is ·A!¬ DenXtµ¡ ,\\x97\\x89\\xa0rHtzms', [43]], ['Hel\\x95µ!6My nome ?\\x87XAr\\x9eGBm Ma\\x94lxn4\\x8b½ov³\\xadI \\x94b d\\x93\\x82\\x91P¨¿S\\x80\\x86t\\x84sv4 th\\x94s is ·A!¬ DenXtµ¡E,\\x97\\x89\\xa0rHtzms', [42]], ['Hel\\x95µ!6My nome ?\\x87XAr\\x9eGBm Ma\\x94lxn4\\x8b½ov³\\xadI \\x94b d\\x93\\x82\\x91P¨¿S\\x80\\x86t\\x84sv4 th\\x94s is ·A!¬ DenXtµ¡E,\\x97\\x89\\xa0rHtzms', [42]], ['Hel\\x95µ!6My nome ?\\x87XAr\\x9eGBm Ma\\x94lxn4\\x8b½ov³\\xadI \\x94b d\\x93\\x82\\x91P¨¿S\\x80\\x86t\\x84sv4 th\\x94s is ·A!¬ DenXtµ¡E,\\x97\\x89\\xa0rHtzms', [42]]]\n",
            "Iter: 13431 [['Hel\\x95µ!6My nome ?\\x87XAr\\x9eGBm Maslxn4\\x8b½ov³\\xadI \\x94b d\\x93\\x82\\x91P¨¿S\\x80\\x86t\\x84sv4 th\\x94s is ·A!¬ DenXtµ¡ ,\\x97\\x89\\xa0rHtzms', [44]], ['Hel\\x95µ!6My nome ?\\x87XAr\\x9eGBm Ma\\x94lxn4\\x8b½ov³\\xadI \\x94b d\\x93\\x82\\x91P¨¿S\\x80\\x86t\\x84sv4 th\\x94s is ·A!¬ DenXtµ¡ ,\\x97\\x89\\xa0rHtzms', [43]], ['Hel\\x95µ!6My nome ?\\x87XAr\\x9eGBm Ma\\x94lxn4\\x8b½ov³\\xadI \\x94b d\\x93\\x82\\x91P¨¿S\\x80\\x86t\\x84sv4 th\\x94s is ·A!¬ Den¦tµ¡ ,\\x97\\x89\\xa0rHtzms', [43]], ['Hel\\x95µ!6My nome ?\\x87XAr\\x9eGBm Ma\\x94lxn4\\x8b½ov³\\xadI \\x94b d\\x93\\x82\\x91P¨¿S\\x80\\x86t\\x84sv4 th\\x94s is ·A!¬ DenXtµ¡ ,\\x97\\x89\\xa0rHtzms', [43]]]\n",
            "Iter: 13510 [['Hel\\x95µ!6My nome ?\\x87XAr\\x9eGBm Maslxn4\\x8b½ov³\\xadI \\x94b d\\x93\\x82\\x91P¨¿S\\x80\\x86t\\x84sv4 th\\x94s is ·A!¬ Denetµ¡ ,\\x97\\x89\\xa0rHtzms', [45]], ['Hel\\x95µ!6My nome ?\\x87XAr\\x9eGBm Maslxn4\\x8b½ov³\\xadI \\x94b d\\x93\\x82\\x91P¨¿S\\x80\\x86t\\x84sv4 th\\x94s is ·A!¬ DenXtµ¡ ,\\x97\\x89\\xa0rHtzms', [44]], ['Hel\\x95µ!6My nome ?\\x87XAr\\x9eGBm Maslxn4\\x8b½ov³\\xadI \\x94b d\\x93\\x82\\x91P¨¿S\\x80\\x86t\\x84sv4 th\\x94s is ·A!¬ DenXtµ¡ ,\\x97\\x89\\xa0rHtzms', [44]], ['Hel\\x95µ!6My nome ?\\x87XAr\\x9eGBm Maslxn4\\x8b½ov³\\xadI \\x94b d\\x93\\x82\\x91P¨¿S\\x80\\x86t\\x84sv4 th\\x94s is ·A!¬ DenXtµ¡ ,\\x97\\x89\\xa0rHtzms', [44]]]\n",
            "Iter: 14799 [['Hel\\x95µ!6My nome ?\\x87XAr\\x9eGBm Maslxn4\\x8b½ov³\\xadI \\x94b d\\x93\\x82\\x91P¨¿S\\x80\\x86tisv4 th\\x94s is ·A!¬ Denetµ¡ ,\\x97\\x89\\xa0rHtzms', [46]], ['Hel\\x95µ!6My nome ?\\x87XAr\\x9eGBm Maslxn4\\x8b½ov³\\xadI \\x94b d\\x93\\x82\\x91P¨¿S\\x80\\x86t\\x84sv4 th\\x94s is ·A!¬ Denetµ¡ ,\\x97\\x89\\xa0rHtzms', [45]], ['Hel\\x95µ!6My nome ?\\x87XAr\\x9eGBm Maslxn4\\x8b½ov³\\xadI \\x94b d\\x93\\x82\\x91P¨¿S\\x80\\x86t\\x84sv4 th\\x94s is ·A!¬ Denetµ¡ ,\\x97\\x89\\xa0rHtzms', [45]], ['Hel\\x95µ!6My nome ?\\x87XAr\\x9eGBm Maslxn4\\x8b½ov³\\xadI \\x94b d\\x93\\x82\\x91P¨¿S\\x80\\x86t\\x84sv4 th\\x94s is ·A!¬ Denet¿¡ ,\\x97\\x89\\xa0rHtzms', [45]]]\n",
            "Iter: 15358 [['Hel\\x95µ!6My nome ?\\x87XAr\\x9eGBm Maslxn4\\x8b½ov³\\xadI \\x94b d\\x93\\x82\\x91P¨¿S\\x80\\x86tist4 th\\x94s is ·A!¬ Denetµ¡ ,\\x97\\x89\\xa0rHtzms', [47]], ['Hel\\x95µ!6My nome ?\\x87XAr\\x9eGBm Maslxn4\\x8b½ov³\\xadI \\x94b d\\x93\\x82\\x91P¨¿S\\x80\\x86tisv4 th\\x94s is ·A!¬ Denetµ¡ ,\\x97\\x89\\xa0rHtzms', [46]], ['Hel\\x95µ!6My nome ?\\x87XAr\\x9eGBm Maslxn4\\x8b½ov³\\xadI \\x94b d\\x93\\x82\\x91P¨¿S\\x80\\x86tisv4 th\\x94s is ·A!¬ Denetµ¡ ,\\x97\\x89\\xa0rHtzms', [46]], ['Hel\\x95µ!6My nome ?\\x87XAr\\x9eGBm Maslxn4\\x8b½ov³\\xadI \\x94b d\\x93\\x82\\x91P¨¿1\\x80\\x86tisv4 th\\x94s is ·A!¬ Denetµ¡ ,\\x97\\x89\\xa0rHtzms', [46]]]\n",
            "Iter: 16548 [['Hellµ!6My nome ?\\x87XAr\\x9eGBm Maslxn4\\x8b½ov³\\xadI \\x94b d\\x93\\x82\\x91P¨¿S\\x80\\x86tist4 th\\x94s is ·A!¬ Denetµ¡ ,\\x97\\x89\\xa0rHtzms', [48]], ['Hel\\x95µ!6My nome ?\\x87XAr\\x9eGBm Maslxn4\\x8b½ov³\\xadI \\x94b d\\x93\\x82\\x91P¨¿S\\x80\\x86tist4 th\\x94s is ·A!¬ Denetµ¡ ,\\x97\\x89\\xa0rHtzms', [47]], ['Hel\\x95µ!6My nome ?\\x87XAr\\x9eGBm Maslxn4\\x8b½ov³\\xadI \\x94b d\\x93\\x82\\x91P¨¿S\\x80\\x86tist4 th\\x94s is ·A!¬ Denetµ¡ ,\\x97\\x89\\xa0rHtzms', [47]], ['Hel\\x95µ!6My nome ?\\x87XAr\\x9eGBm Maslxn4\\x8b½ov³\\xadI \\x94b d\\x93\\x82\\x91P¨¿S\\x80\\x86tist4 th\\x94s is ·A!¬ Denetµ¡ ,\\x97\\x89\\xa0rHtzms', [47]]]\n",
            "Iter: 17004 [['Hellµ!6My name ?\\x87XAr\\x9eGBm Maslxn4\\x8b½ov³\\xadI \\x94¸ d\\x93\\x82\\x91P¨¿S\\x80\\x86tist4 th\\x94s is ·A!¬ Denetµ¡ ,\\x97\\x89\\xa0rHtzms', [49]], ['Hellµ!6My nome ?\\x87XAr\\x9eGBm Maslxn4\\x8b½ov³\\xadI \\x94b d\\x93\\x82\\x91P¨¿S\\x80\\x86tist4 th\\x94s is ·A!¬ Denetµ¡ ,\\x97\\x89\\xa0rHtzms', [48]], ['Hellµ!6My nome ?\\x87XAr\\x9eGBm Maslxn4\\x8b½ov³\\xadI \\x94¸ d\\x93\\x82\\x91P¨¿S\\x80\\x86tist4 th\\x94s is ·A!¬ Denetµ¡ ,\\x97\\x89\\xa0rHtzms', [48]], ['Hellµ!6My nome ?\\x87XAr\\x9eGBm Maslxn4\\x8b½ov³\\xadI \\x94¸ d\\x93\\x82\\x91P¨¿S\\x80\\x86tist4 th\\x94s is ·A!¬ Denetµ¡ ,\\x97\\x89\\xa0rHtzms', [48]]]\n",
            "Iter: 17598 [['Hellµ!6My name ?\\x87XAr\\x9eGBm Maslxn4\\x8b½ov³\\xadI \\x94¸ d\\x93\\x82\\x91ª¨¿S\\x80\\x86tist4 th\\x94s is ·A ¬ Denetµ¡ ,\\x97\\x89\\xa0rHtzms', [50]], ['Hellµ!6My name ?\\x87XAr\\x9eGBm Maslxn4\\x8b½ov³\\xadI \\x94¸ d\\x93\\x82\\x91P¨¿S\\x80\\x86tist4 th\\x94s is ·A!¬ Denetµ¡ ,\\x97\\x89\\xa0rHtzms', [49]], ['Hellµ!6My name ?\\x87XAr\\x9eGBm Maslxn4\\x8b½ov³\\xadI \\x94¸ d\\x93\\x82\\x91P¨¿S\\x80\\x86tist4 th\\x94s is ·A!¬ Denetµ¡ ,\\x97\\x89\\xa0rHtzms', [49]], ['Hellµ!6My name ?\\x87XAr\\x9eGBm Maslxn4\\x8b½ov³\\xadI \\x94¸ d\\x93\\x82\\x91P¨¿S\\x80\\x86tist4 th\\x94s is ·A!¬ Denetµ¡ ,\\x97\\x89\\xa0rHtzms', [49]]]\n",
            "Iter: 18120 [['Hellµ!6My name ?\\x87XAr\\x9eGBm Maslxn4\\x8b½ov³\\xadI \\x94¸ d\\x93\\x82\\x91ª¨¿S\\x80\\x86tist4 th\\x94s is ·A ¬ Denetµ¡ ,\\x97\\x89orHtzms', [51]], ['Hellµ!6My name ?\\x87XAr\\x9eGBm Maslxn4\\x8b½ov³\\xadI \\x94¸ d\\x93\\x82\\x91ª¨¿S\\x80\\x86tist4 th\\x94s is ·A ¬ Denetµ¡ ,\\x97\\x89\\xa0rHtzms', [50]], ['Hellµ!6My name ?\\x87XAr\\x9eGBm Maslxn4\\x8b½ov³\\xadI \\x94¸ d\\x93\\x82\\x91ª¨¿S\\x80\\x86tist4 th\\x94s is ·A ¬ Denetµ¡ ,\\x97\\x89\\xa0rHtzms', [50]], ['Hellµ!6My name ?\\x87XAr\\x9eGBm Maslxn4\\x8b½ov³\\xadI \\x94¸ d\\x93\\x82\\x91ª¨¿S\\x80\\x86tist4 th\\x94s is ·A ¬ Denetµ¡ ,\\x97\\x89\\xa0rHtzms', [50]]]\n",
            "Iter: 18553 [['Hellµ!6My name ?\\x87XAr\\x9eGBm Maslxn4\\x8b½ov³\\xadI \\x94¸ d\\x93\\x82aª¨¿S\\x80\\x86tist4 th\\x94s is ·A ¬ Denetµ¡ ,\\x97\\x89orHtzms', [52]], ['Hellµ!6My name ?\\x87XAr\\x9eGBm Maslxn4\\x8b½ov³\\xadI \\x94¸ d\\x93\\x82\\x91ª¨¿S\\x80\\x86tist4 th\\x94s is ·A ¬ Denetµ¡ ,\\x97\\x89orHtzms', [51]], ['Hellµ!6My name ?\\x87XAr\\x9eGBm Maslxn4\\x8b½ov³\\xadI \\x94¸ d\\x93\\x82\\x91ª¨¿S\\x80\\x86tist4 th\\x94s is ·A ¬ Denetµ¡ ,\\x97\\x89orHtzms', [51]], ['Hellµ!6My name ?\\x87XAr\\x9eGBm Maslxn4\\x8b½ov³\\xadI \\x94¸ d\\x93\\x82\\x91ª¨¿S\\x80\\x86tist4 th\\x94s is ·A ¬ Denetµ¡ ,\\x97\\x89orHtzms', [51]]]\n",
            "Iter: 18831 [['Hellµ!6My name ?\\x87XAr\\x9eGBm Maslxn4\\x8b½ov³\\xadI \\x94¸ d\\x93\\x82aª¨¿S\\x80\\x86tist4 th\\x94s is ·A ¬ Genetµ¡ ,\\x97\\x89orHtzms', [53]], ['Hellµ!6My name ?\\x87XAr\\x9eGBm Maslxn4\\x8b½ov³\\xadI \\x94¸ d\\x93\\x82aª¨¿S\\x80\\x86tist4 th\\x94s is ·A ¬ Denetµ¡ ,\\x97\\x89orHtzms', [52]], ['Hellµ!6My name ?\\x87XAr\\x9eGBm Maslxn4\\x8b½ov³\\xadI \\x94¸ d\\x93\\x82aª¨¿S\\x80\\x86tist4 th\\x94s is ·A ¬ Denetµ¡ ,\\x97\\x89orHtzms', [52]], ['Hellµ!6My name ?\\x87XAr\\x9eGBm Maslxn4\\x8b½ov³\\xadI \\x94¸ d\\x93\\x82aª¨¿S\\x80\\x86tist4 th\\x94s is ·A ¬ Denetµ¡ ,\\x97\\x89orHtzms', [52]]]\n",
            "Iter: 18990 [['Hellµ!6My name ?\\x87XAr\\x9eGBm Maslxn4i½ov³\\xadI \\x94¸ d\\x93\\x82aª¨¿S\\x80\\x86tist4 th\\x94s is ·A ¬ Genetµ¡ ,\\x97\\x89orHtzms', [54]], ['Hellµ!6My name ?\\x87XAr\\x9eGBm Maslxn4\\x8b½ov³\\xadI \\x94¸ d\\x93\\x82aª¨¿S\\x80\\x86tist4 th\\x94s is ·A ¬ Genetµ¡ ,\\x97\\x89orHtzms', [53]], ['Hellµ!6My name ?\\x87XAr\\x9eGBm Maslxn4\\x8b½ov³\\xadI \\x94¸ d\\x93\\x82aª¨¿S\\x80\\x86tist4 th\\x94s is ·A ¬ Genetµ¡ ,\\x97\\x89orHtzms', [53]], ['Hellµ!6My name ?\\x87XAr\\x9eGBm Maslxn4\\x8b½ov³\\xadI \\x94¸ d\\x93\\x82aª¨¿S\\x80\\x86tist4 th\\x94s is ·A ¬ Genetµ¡ ,\\x97\\x89orHtzms', [53]]]\n",
            "Iter: 20616 [['Hellµ!6My name ?\\x87XAr\\x9eGom Maslxn4i½ov³\\xadI \\x94¸ d\\x93\\x82aª¨¿S\\x80\\x86tist4 th\\x94s is ·A ¬ Genetµ¡ ,\\x97\\x89orHtzms', [55]], ['Hellµ!6My name ?\\x87XAr\\x9eGBm Maslxn4i½ov³\\xadI \\x94¸ d\\x93\\x82aª¨¿S\\x80\\x86tist4 th\\x94s is ·A ¬ Genetµ¡ ,\\x97\\x89orHtzms', [54]], ['Hellµ!6My name ?\\x87XAr\\x9eGBm Maslxn4i½ov³\\xadI \\x94¸ d\\x93\\x82aª¨¿S\\x80\\x86tist4 th\\x94s is ·A ¹ Genetµ¡ ,\\x97\\x89orHtzms', [54]], ['Hellµ!6My name ?\\x87XAr\\x9eGBm Maslxn4i½ov³\\xadI \\x94¸ d\\x93\\x82aª¨¿S\\x80\\x86tist4 th\\x94s is ·A ¬ Genetµ¡ ,\\x97\\x89orHtzms', [54]]]\n",
            "Iter: 21163 [['Hellµ!6My name ?\\x87XAr\\x9eGom Maslxn4i½ov³\\xadI \\x94¸ d\\x93\\x82aª¨¿S\\x80\\x86tist4 th\\x94s is ·A ¬ Genetµ¡ ,\\x97\\x89orHtzm!', [56]], ['Hellµ!6My name ?\\x87XAr\\x9eGom Maslxn4i½ov³\\xadI \\x94¸ d\\x93\\x82aª¨¿S\\x80\\x86tist4 th\\x94s is ·A ¬ Genetµ¡ ,\\x97\\x89orHtzms', [55]], ['Hellµ!6My name ?\\x87XAr\\x9eGom Maslxn4i½ov³\\xadI \\x94¸ d\\x93\\x82aª¨¿S\\x80\\x86tist4 th\\x94s is ·A ¬ Genetµ¡ ,\\x97\\x89orHtzms', [55]], ['Hellµ!6My name ?\\x87XAr\\x9eGom MaslÀn4i½ov³\\xadI \\x94¸ d\\x93\\x82aª¨¿S\\x80\\x86tist4 th\\x94s is ·A ¬ Genetµ¡ ,\\x97\\x89orHtzms', [55]]]\n",
            "Iter: 21180 [['Hellµ!6My name ?\\x87XAr\\x9eGom Maslxn4i½ov³\\xadI \\x94¸ d\\x93\\x82aª¨cS\\x80\\x86tist4 th\\x94s is ·A ¬ Genetµ¡ ,\\x97\\x89orHtzm!', [57]], ['Hellµ!6My name ?\\x87XAr\\x9eGom Maslxn4i½ov³\\xadI \\x94¸ d\\x93\\x82aª¨¿S\\x80\\x86tist4 th\\x94s is ·A ¬ Genetµ¡ ,\\x97\\x89orHtzm!', [56]], ['Hellµ!6My name ?\\x87XAr\\x9eGom Maslxn4i½ov³\\xadI \\x94¸ d\\x93\\x82aª¨¿S\\x80\\x86tist4 th\\x94s is ·A ¬ Genetµ¡ ,\\x97\\x89orHtzm!', [56]], ['Hellµ!6My name ?\\x87XAr\\x9eGom Maslxn4i½ov³\\xadI \\x94¸ d\\x93\\x82aª¨¿S\\x80\\x86tist4 th\\x94s is ·A ¬ Genetµ¡ ,\\x97\\x89orHtzm!', [56]]]\n",
            "Iter: 22979 [['Hellµ!6My name ?\\x87XAr\\x9eGom Maslxn4i½ov³\\xadI \\x94¸ d\\x93\\x82aª¨cS\\x80\\x86tist4 th\\x94s is ·A ¬ Genetµ¡ A\\x97\\x89orHtzm!', [58]], ['Hellµ!6My name ?\\x87XAr\\x9eGom Maslxn4i½ov³\\xadI \\x94¸ d\\x93\\x82aª¨cS\\x80\\x86tist4 th\\x94s is ·A ¬ Genetµ¡ ,\\x97\\x89orHtzm!', [57]], ['Hellµ!6My name ?\\x87XAr\\x9eGom Maslxn4i½ov³\\xadI \\x94¸ d\\x93\\x82aª¨cS\\x80\\x86tist4 th\\x94s is ·A ¬ Genetµ¡ ,\\x97\\x89orHtzm!', [57]], ['Hellµ!6My name ?\\x87XAr\\x9eGom Maslxn4i½ov³\\xadI \\x94¸ d\\x93\\x82aª¨cS\\x80\\x86tist4 th\\x94s is ·A ¬ Genetµ¡ ,\\x97\\x89orHtfm!', [57]]]\n",
            "Iter: 25972 [['Hellµ!.My name ?\\x87 Ar\\x9eGom Maslxn4i½ov³\\xadI \\x94¸ d\\x93\\x82aª¨cS\\x80\\x86tist4 th\\x94s is ·A ¬ Genetµ¡ A\\x97\\x89orHtzm!', [59]], ['Hellµ!6My name ?\\x87XAr\\x9eGom Maslxn4i½ov³\\xadI \\x94¸ d\\x93\\x82aª¨cS\\x80\\x86tist4 th\\x94s is ·A ¬ Genetµ¡ A\\x97\\x89orHtzm!', [58]], ['Hellµ!6My name ?\\x87XAr\\x9eGom Maslxn4i½ov³\\xadI \\x94¸ d\\x93\\x82aª¨cS\\x80\\x86tistt th\\x94s is ·A ¬ Genetµ¡ A\\x97\\x89orHtzm!', [58]], ['Hellµ!6My name ?\\x87XAr\\x9eGom Maslxn4i½ov³\\xadI \\x94¸ d\\x93\\x82aª¨cS\\x80\\x86tist4 th\\x94s is ·A ¬ Genetµ¡ A\\x97\\x89orHtzm!', [58]]]\n",
            "Iter: 26846 [['Hellµ!.My name ?\\x87 Ar\\x9eGom Maslxn4i½ov³ I \\x94¸ d\\x93\\x82aª¨c#\\x80\\x86tist4 th\\x94s is ·A ¬ Genetµ¡ A\\x97\\x89orHtzm!', [60]], ['Hellµ!.My name ?\\x87 Ar\\x9eGom Maslxn4i½ov³\\xadI \\x94¸ d\\x93\\x82aª¨cS\\x80\\x86tist4 th\\x94s is ·A ¬ Genetµ¡ A\\x97\\x89orHtzm!', [59]], ['Hellµ!.My name ?\\x87 Ar\\x9eGom Maslxn4i½ov³\\xadI \\x94¸ d\\x93\\x82aª¨c#\\x80\\x86tist4 th\\x94s is ·A ¬ Genetµ¡ A\\x97\\x89orHtzm!', [59]], ['Hellµ!.My name ?\\x87 Ar\\x9eGom Maslxn4i½ov³\\xadI \\x94¸ d\\x93\\x82aª¨c#\\x80\\x86tist4 th\\x94s is ·A ¬ Genetµ¡ A\\x97\\x89orHtzm!', [59]]]\n",
            "Iter: 29249 [['Hellµ!.My name ?\\x87 Ar\\x9eGom Maslxn4i½ov³ I \\x94¸ d\\x93\\x82aª¨c#\\x80\\x86tist4 th\\x94s is ·A ¬ Geneti¡ A\\x97\\x89orHtzm!', [61]], ['Hellµ!.My name ?\\x87 Ar\\x9eGom Maslxn4i½ov³ I \\x94¸ d\\x93\\x82aª¨c#\\x80\\x86tist4 th\\x94s is ·A ¬ Genetµ¡ A\\x97\\x89orHtzm!', [60]], ['Hellµ!.My name ?\\x87 Ar\\x9eGom Maslxn4i½ov³ I \\x94¸ d\\x93\\x82aª¨c#\\x80\\x86tist4 th\\x94s is ·A ¬ Genetµ¡ A\\x97\\x89orHtzm!', [60]], ['Hellµ!.My name ?\\x87 Ar\\x9eGom Maslxn4i½ov³ I \\x94¸ d\\x93\\x82aª¨c#\\x80\\x86tist4 th\\x94s is ·A ¬ Genetµ¡ A\\x97\\x89orHtzm!', [60]]]\n",
            "Iter: 29384 [['Hellµ!.My name ?\\x87 Ar\\x9eGom Maslxn4ikov³ I \\x94¸ d\\x93\\x82aª¨c#\\x80\\x86tist4 th\\x94s is ·A ¬ Geneti¡ A\\x97\\x89orHtzm!', [62]], ['Hellµ!.My name ?\\x87 Ar\\x9eGom Maslxn4i½ov³ I \\x94¸ d\\x93\\x82aª¨c#\\x80\\x86tist4 th\\x94s is ·A ¬ Geneti¡ A\\x97\\x89orHtzm!', [61]], ['Hellµ!.My name ?\\x87 Ar\\x9eGom Maslxn4i½ov³ I \\x94¸ d\\x93\\x82aª¨c#\\x80\\x86tist4 th\\x94s is ·A ¬ Geneti¡ A\\x97\\x89orHtzm!', [61]], ['Hellµ!.My name ?\\x87 Ar\\x9eGom Maslxn4i½ov³ I \\x94¸ d\\x93\\x82aª¨c#\\x80\\x86tist4 th\\x94s is ·A ¬ Geneti¡ A\\x97\\x89orHtzm!', [61]]]\n",
            "Iter: 29936 [['Hellµ!.My name ?\\x87 Ar\\x9eGom Maslxn4ikov³ I \\x941 d\\x93\\x82aª¨c#\\x80\\x86tist. th\\x94s is ·A ¬ Geneti¡ A\\x97\\x89orHtzm!', [63]], ['Hellµ!.My name ?\\x87 Ar\\x9eGom Maslxn4ikov³ I \\x94¸ d\\x93\\x82aª¨c#\\x80\\x86tist4 th\\x94s is ·A ¬ Geneti¡ A\\x97\\x89orHtzm!', [62]], ['Hellµ!.My name ?\\x87 Ar\\x9eGom Maslxn4ikov³ I \\x941 d\\x93\\x82aª¨c#\\x80\\x86tist4 th\\x94s is ·A ¬ Geneti¡ A\\x97\\x89orHtzm!', [62]], ['Hellµ!.My name ?\\x87 Ar\\x9eGom Maslxn4ikov³ I \\x941 d\\x93\\x82aª¨c#\\x80\\x86tist4 th\\x94s is ·A ¬ Geneti¡ A\\x97\\x89orHtzm!', [62]]]\n",
            "Iter: 30109 [['Hellµ!.My name ?\\x87 Ar\\x9eGom Maslxn4ikov! I \\x941 d\\x93\\x82aª¨c#\\x80\\x86tist. th\\x94s is ·A ¬ Geneti¡ A\\x97\\x89orHtzm!', [64]], ['Hellµ!.My name ?\\x87 Ar\\x9eGom Maslxn4ikov³ I \\x941 d\\x93\\x82aª¨c#\\x80\\x86tist. th\\x94s is ·A ¬ Geneti¡ A\\x97\\x89orHtzm!', [63]], ['Hellµ!.My name ?\\x87 Ar\\x9eGom Maslxn4ikov³ I \\x941 d\\x93\\x82aª¨c#\\x80\\x86tist. th\\x94s is ·A ¬ Geneti¡ A\\x97\\x89orHtzm!', [63]], ['Hellµ!.My name ?\\x87 Ar\\x9eGom Maslxn4ikov³ I \\x941 d\\x93\\x82aª¨c#\\x80\\x86tist. th\\x94s is ·A ¬ Geneti¡ A\\x97\\x89orHtzm!', [63]]]\n",
            "Iter: 30289 [['Hellµ!.My name ?\\x87 Ar\\x9eGom Maslxnnikov! I \\x941 d\\x93\\x82aª¨c#\\x80\\x86tist. th\\x94s is ·A ¬ Geneti¡ A\\x97\\x89orHtzm!', [65]], ['Hellµ!.My name ?\\x87 Ar\\x9eGom Maslxn4ikov! I \\x941 d\\x93\\x82aª¨c#\\x80\\x86tist. th\\x94s is ·A ¬ Geneti¡ A\\x97\\x89orHtzm!', [64]], ['Hellµ!.My name ?\\x87 Ar\\x9e\\x9dom Maslxn4ikov! I \\x941 d\\x93\\x82aª¨c#\\x80\\x86tist. th\\x94s is ·A ¬ Geneti¡ A\\x97\\x89orHtzm!', [64]], ['Hellµ!.My name ?\\x87 Ar\\x9eGom Maslxn4ikov! I \\x941 d\\x93\\x82aª¨c#\\x80\\x86tist. th\\x94s is ·A ¬ Geneti¡ A\\x97\\x89orHtzm!', [64]]]\n",
            "Iter: 31799 [['Hellµ!.My name ?\\x87 Ar\\x9eGom Maslennikov! I \\x941 d\\x93(aª¨c#\\x80\\x86tist. th\\x94s is ·A ¬ Geneti¡ A\\x97\\x89orHtzm!', [66]], ['Hellµ!.My name ?\\x87 Ar\\x9eGom Maslxnnikov! I \\x941 d\\x93\\x82aª¨c#\\x80\\x86tist. th\\x94s is ·A ¬ Geneti¡ A\\x97\\x89orHtzm!', [65]], ['Hellµ!.My name ?\\x87 Ar\\x9eGom Maslxnnikov! I \\x941 d\\x93\\x82aª¨c#\\x80\\x86tist. th\\x94s is ·A ¬ Geneti¡ A\\x97\\x89orHtzm!', [65]], ['Hellµ!.My name ?\\x87 Ar\\x9eGom Maslxnnikov! I \\x941 d\\x93\\x82aª¨c#\\x80\\x86tist. th\\x94s is ·A ¬ Geneti¡ A\\x97\\x89orHtzm!', [65]]]\n",
            "Iter: 32658 [['Hellµ!.My name ?\\x87 Ar\\x9eyom Maslennikov! I \\x941 d\\x93(aª¨c#\\x80\\x86tist. th\\x94s is ·A ¬ Geneti¡ A\\x97\\x89orHtzm!', [67]], ['Hellµ!.My name ?\\x87 Ar\\x9eGom Maslennikov! I \\x941 d\\x93(aª¨c#\\x80\\x86tist. th\\x94s is ·A ¬ Geneti¡ A\\x97\\x89orHtzm!', [66]], ['Hellµ!.My name ?\\x87 Ar\\x9eGom Maslennikov! I \\x941 d\\x93(aª¨c#\\x80\\x86tist. th\\x94s is ·A ¬ Geneti¡ A\\x97\\x89orHtzm!', [66]], ['Hellµ!.My name ?\\x87 Ar\\x9eGom Maslennikov! I \\x941 d\\x93(aª¨c#\\x80\\x86tist. th\\x94s is ·A ¬ Geneti¡ A\\x97\\x89orHtzm!', [66]]]\n",
            "Iter: 32755 [['Hellµ!.My name ?\\x87 Ar\\x9eyom Maslennikov! I \\x941 d\\x93(aª¨c#\\x80\\x86tist. th\\x94s is ·A ¬ Geneti¡ A\\x97gorHtzm!', [68]], ['Hellµ!.My name ?\\x87 Ar\\x9eyom Maslennikov! I \\x941 d\\x93(aª¨c#\\x80\\x86tist. th\\x94s is ·A ¬ Geneti¡ A\\x97\\x89orHtzm!', [67]], ['Hellµ!.My name ?\\x87 Ar\\x9eyom Maslennikov! I \\x941 d\\x93(aª¨c#\\x80\\x86tist. th\\x94s is ·A ¬ Geneti¡ A\\x97\\x89orHtzm!', [67]], ['Hellµ!.My name ?\\x87 Ar\\x9eyom Maslennikov! I \\x941 d\\x93(aª¨c#\\x80\\x86tist. th\\x94s is ·A ¬ Geneti¡ A\\x97\\x89orHtzm!', [67]]]\n",
            "Iter: 34823 [['Hellµ!.My name ?\\x87 Ar\\x9eyom Maslennikov! I \\x941 d\\x93(aª¨c#\\x80\\x86tist. th\\x94s is GA ¬ Geneti¡ A\\x97gorHtzm!', [69]], ['Hellµ!.My name ?\\x87 Ar\\x9eyom Maslennikov! I \\x941 d\\x93(aª¨c#\\x80\\x86tist. th\\x94s is ·A ¬ Geneti¡ A\\x97gorHtzm!', [68]], ['Hellµ!.My name ?\\x87 Ar\\x9eyom Maslennikov! I \\x941 d\\x93(aª¨c#\\x80\\x86tist. th\\x94s is ·A ¬ Geneti¡ A\\x97gorHtzm!', [68]], ['Hellµ!.My name ?\\x87 Ar\\x9eyom Maslennikov! I \\x941 d\\x93(aª¨c#\\x80\\x86tist. th\\x94s is ·A ¬ Geneti¡ A\\x97gorHtzm!', [68]]]\n",
            "Iter: 35708 [['Hellµ!.My name ?\\x87 Ar\\x9eyom Maslennikov! I a1 d\\x93(aª¨c#\\x80\\x86tist. th\\x94s is GA ¬ Geneti¡ A\\x97gorHtzm!', [70]], ['Hellµ!.My name ?\\x87 Ar\\x9eyom Maslennikov! I \\x941 d\\x93(aª¨c#\\x80\\x86tist. th\\x94s is GA ¬ Geneti¡ A\\x97gorHtzm!', [69]], ['Hellµ!.My name ?\\x87 Ar\\x9eyom Maslennikov! I \\x941 d\\x93(aª¨c#\\x80\\x86tist. th\\x94s is GA ¬ Geneti¡ A\\x97gorHtzm!', [69]], ['Hellµ!.My name ?\\x87 Ar\\x9eyom Maslennikov! I \\x941 d\\x93(aª¨c#\\x80\\x86tist. th\\x94s is GA ¬ Geneti¡ A\\x97gorHtzm!', [69]]]\n",
            "Iter: 35946 [['Hellµ!.My name ?\\x87 Ar\\x9eyom Maslennikov! I am d\\x93(aª¨c#\\x80\\x86tist. th\\x94s is GA ¬ Geneti¡ A\\x97gorHtzm!', [71]], ['Hellµ!.My name ?\\x87 Ar\\x9eyom Maslennikov! I a1 d\\x93(aª¨c#\\x80\\x86tist. th\\x94s is GA ¬ Geneti¡ A\\x97gorHtzm!', [70]], ['Hellµ!.My name ?\\x87 Ar\\x9eyom Maslennikov! I a1 d\\x93(aª¨c#\\x80\\x86tist. th\\x94s is GA ¬ Geneti¡ A\\x97gorHtzm!', [70]], ['Hellµ!.My name ?\\x87 Ar\\x9eyom Maslennikov! I a1 d\\x93(aª¨c#\\x80\\x86tist. th\\x94s is GA ¬ Geneti¡ A\\x97gorHtzm!', [70]]]\n",
            "Iter: 38159 [['Hellµ!.My name i\\x87 Ar\\x9eyom Maslennikov! I am d\\x93(aª¨c#\\x80\\x86tist. th\\x94s is GA ¬ Geneti¡ A\\x97gorHtzm!', [72]], ['Hellµ!.My name ?\\x87 Ar\\x9eyom Maslennikov! I am d\\x93(aª¨c#\\x80\\x86tist. th\\x94s is GA ¬ Geneti¡ A\\x97gorHtzm!', [71]], ['Hellµ!.My name ?\\x87 Ar\\x9eyom Maslennikov! I am d\\x93(aª¨c#\\x80\\x86tist. th\\x94s is GA ¬ Geneti¡ A\\x97gorHtzm!', [71]], ['Hellµ!.My name ?\\x87 Ar\\x9eyom Maslennikov! I am d\\x93(aª¨c#\\x80\\x86tist. th\\x94s is GA ¬ Geneti¡ A\\x97gorHtzm!', [71]]]\n",
            "Iter: 39573 [['Hello!.My name i\\x87 Ar\\x9eyom Maslennikov! I am d\\x93(aª¨c#\\x80\\x86tist. th\\x94s is GA ¬ Geneti¡ A\\x97gorHtzm!', [73]], ['Hellµ!.My name i\\x87 Ar\\x9eyom Maslennikov! I am d\\x93(aª¨c#\\x80\\x86tist. th\\x94s is GA ¬ Geneti¡ A\\x97gorHtzm!', [72]], ['Hellµ!.My name i\\x87 Ar\\x9eyom Maslennikov! I am d\\x93(aª¨c#\\x80\\x86tist. th\\x94s is GA ¬ Geneti¡ A\\x97gorHtzm!', [72]], ['Hellµ!.My name i\\x87 Ar¦yom Maslennikov! I am d\\x93(aª¨c#\\x80\\x86tist. th\\x94s is GA ¬ Geneti¡ A\\x97gorHtzm!', [72]]]\n",
            "Iter: 41770 [['Hello!.My name i\\x87 Ar\\x9eyom Maslennikov! I am d\\x93(aª¨c#\\x80\\x86tist. Th\\x94s is GA ¬ Geneti¡ A\\x97gorHtzm!', [74]], ['Hello!.My name i\\x87 Ar\\x9eyom Maslennikov! I am d\\x93(aª¨c#\\x80\\x86tist. th\\x94s is GA ¬ Geneti¡ A\\x97gorHtzm!', [73]], ['Hello!.My name i\\x87 Ar\\x9eyom Maslennikov! I am d\\x93(aª¨c#\\x80\\x86tist. th\\x94s is GA ¬ Geneti¡ A\\x97gorHtzm!', [73]], ['Hello!.My name i\\x87 Ar\\x9eyom Maslennikov! I am d\\x93(aª¨c#\\x80\\x86tist. th\\x94s is GA ¬ Geneti¡ A\\x97gorHtzm!', [73]]]\n",
            "Iter: 43748 [['Hello!.My name i\\x87 Ar\\x9eyom Maslennikov! I am d\\x93(a ¨c#\\x80\\x86tist. Th\\x94s is GA ¬ Geneti» A\\x97gorHtzm!', [75]], ['Hello!.My name i\\x87 Ar\\x9eyom Maslennikov! I am d\\x93(aª¨c#\\x80\\x86tist. Th\\x94s is GA ¬ Geneti¡ A\\x97gorHtzm!', [74]], ['Hello!.My name i\\x87 Ar\\x9eyom Maslennikov! I am d\\x93(aª¨c#\\x80\\x86tist. Th\\x94s is GA ¬ Geneti» A\\x97gorHtzm!', [74]], ['Hello!.My name i\\x87 Ar\\x9eyom Maslennikov! I am d\\x93(aª¨c#\\x80\\x86tist. Th\\x94s is GA ¬ Geneti» A\\x97gorHtzm!', [74]]]\n",
            "Iter: 45592 [['Hello!.My name i\\x87 Ar\\x9eyom Maslennikov! I am d\\x93(a ¨c#\\x80\\x86tist. Th\\x94s is GA - Geneti» A\\x97gorHtzm!', [76]], ['Hello!.My name i\\x87 Ar\\x9eyom Maslennikov! I am d\\x93(a ¨c#\\x80\\x86tist. Th\\x94s is GA ¬ Geneti» A\\x97gorHtzm!', [75]], ['Hello!.My name i\\x87 Ar\\x9eyom Maslennikov! I am d\\x93(a ¨c#\\x80\\x86tist. Th\\x94s is GA ¬ Geneti» A\\x97gorHtzm!', [75]], ['Hello!.My name i\\x87 Ar\\x9eyom Maslennikov! I am d\\x93(a ¨c#\\x80\\x86tist. Th\\x94s is GA ¬ Geneti» A\\x97gorHtzm!', [75]]]\n",
            "Iter: 46577 [['Hello!.My name i\\x87 Ar\\x9eyom Maslennikov! I am d\\x93(a ¨c#\\x80\\x86tist. Th\\x94s is GA - Geneti\\x94 A\\x97goritzm!', [77]], ['Hello!.My name i\\x87 Ar\\x9eyom Maslennikov! I am d\\x93(a ¨c#\\x80\\x86tist. Th\\x94s is GA - Geneti» A\\x97gorHtzm!', [76]], ['Hello!.My name i\\x87 Ar\\x9eyom Maslennikov! I am d\\x93(a ¨c#\\x80\\x86tist. Th\\x94s is GA - Geneti\\x94 A\\x97gorHtzm!', [76]], ['Hello!.My name i\\x87 Ar\\x9eyom Maslennikov! I am d\\x93(a ¨c#\\x80\\x86tist. Th\\x94s is GA - Geneti\\x94 A\\x97gorHtzm!', [76]]]\n",
            "Iter: 49534 [['Hello!.My name i\\x87 Ar\\x9eyom Maslennikov! I am d\\x93(a ¨ci\\x80\\x86tist. Th\\x94s is GA - Geneti\\x94 A\\x97goritzm!', [78]], ['Hello!.My name i\\x87 Ar\\x9eyom Maslennikov! I am d\\x93(a ¨c#\\x80\\x86tist. Th\\x94s is GA - Geneti\\x94 A\\x97goritzm!', [77]], ['Hello!.My name i\\x87 Ar\\x9eyom Maslennikov! I am d\\x93(a ¨c#\\x80\\x86tist. Th\\x94s is GA - Geneti\\x94 A\\x97goritzm!', [77]], ['Hello!.My name i\\x87 Ar\\x9eyom Maslennikov! I am d\\x93(a ¨c#\\x80\\x86tist. Th\\x94s is GA - Geneti\\x94 A\\x97goritzm!', [77]]]\n",
            "Iter: 50005 [['Hello!.My name i\\x87 Ar\\x9eyom Maslennikov! I am d\\x93ta ¨ci\\x80\\x86tist. Th\\x94s is GA - Geneti\\x94 A\\x97goritzm!', [79]], ['Hello!.My name i\\x87 Ar\\x9eyom Maslennikov! I am d\\x93(a ¨ci\\x80\\x86tist. Th\\x94s is GA - Geneti\\x94 A\\x97goritzm!', [78]], ['Hello!.My name i\\x87 Ar\\x9eyom Maslennikov! I am d\\x93(a ¨ci\\x80\\x86tist. Th\\x94s is GA - Geneti\\x94 A\\x97goritzm!', [78]], ['Hello!.My name i\\x87 Ar\\x9eyom Maslennikov! I am d\\x93(a &ci\\x80\\x86tist. Th\\x94s is GA - Geneti\\x94 A\\x97goritzm!', [78]]]\n",
            "Iter: 50109 [['Hello!.My name i\\x87 Ar\\x9eyom Maslennikov! I am d\\x93ta ¨ci\\x80\\x86tist. Th\\x94s is GA - Geneti\\x94 Algoritzm!', [80]], ['Hello!.My name i\\x87 Ar\\x9eyom Maslennikov! I am d\\x93ta ¨ci\\x80\\x86tist. Th\\x94s is GA - Geneti\\x94 A\\x97goritzm!', [79]], ['Hello!.My name i\\x87 Ar\\x9eyom Maslennikov! I am d\\x93ta ¨ci\\x80\\x86tist. Th\\x94s is GA - Geneti\\x94 A\\x97goritzm!', [79]], ['Hello!.My name i\\x87 Ar\\x9eyom Maslennikov! I am d\\x93ta ¨ci\\x80\\x86tist. Th\\x94s is GA - Geneti\\x94 A\\x97goritzm!', [79]]]\n",
            "Iter: 50377 [['Hello!.My name i\\x87 Ar\\x9eyom Maslennikov! I am d\\x93ta ¨ci\\x80\\x86tist. This is GA - Geneti\\x94 Algoritzm!', [81]], ['Hello!.My name i\\x87 Ar\\x9eyom Maslennikov! I am d\\x93ta ¨ci\\x80\\x86tist. Th\\x94s is GA - Geneti\\x94 Algoritzm!', [80]], ['Hello!.My name i\\x87 Ar\\x9eyom Maslennikov! I am d\\x93ta ¨ci\\x80\\x86tist. Th\\x94s is GA - Geneti\\x94 Algoritzm!', [80]], ['Hello!.My name i\\x87 Ar\\x9eyom Maslennikov! I am d\\x93ta ¨ci\\x80\\x86tist. Th\\x94s is GA - Geneti\\x94 Algoritzm!', [80]]]\n",
            "Iter: 50667 [['Hello!.My name i\\x87 Ar\\x9eyom Maslennikov! I am d\\x93ta ¨ci\\x80\\x86tist. This is GA - Geneti\\x94 Algorithm!', [82]], ['Hello!.My name i\\x87 Ar\\x9eyom Maslennikov! I am d\\x93ta ¨ci\\x80\\x86tist. This is GA - Geneti\\x94 Algoritzm!', [81]], ['Hello!.My name i\\x87 Ar\\x9eyom Maslennikov! I am d\\x93ta ¨ci\\x80\\x86tist. This is GA - Geneti\\x94 Algoritzm!', [81]], ['Hello!.My name i\\x87 Ar\\x9eyom Maslennikov! I am d\\x93ta ¨ci\\x80\\x86tist. This is GA - Geneti\\x94 Algoritzm!', [81]]]\n",
            "Iter: 55290 [['Hello!.My name is Ar\\x9eyom Maslennikov! I am d\\x93ta ¨ci\\x80\\x86tist. This is GA - Geneti\\x94 Algorithm!', [83]], ['Hello!.My name i\\x87 Ar\\x9eyom Maslennikov! I am d\\x93ta ¨ci\\x80\\x86tist. This is GA - Geneti\\x94 Algorithm!', [82]], ['Hello!.My name i\\x87 Ar\\x9eyom Maslennikov! I am d\\x93ta ¨ci\\x80\\x86tist. This is GA - Geneti\\x94 Algorithm!', [82]], ['Hello!.My name i\\x87 Ar\\x9eyom Maslennikov! I am d\\x93ta ¨ci\\x85\\x86tist. This is GA - Geneti\\x94 Algorithm!', [82]]]\n",
            "Iter: 55866 [['Hello!.My name is Ar\\x9eyom Maslennikov! I am d\\x93ta ¨ci\\x80ntist. This is GA - Geneti\\x94 Algorithm!', [84]], ['Hello!.My name is Ar\\x9eyom Maslennikov! I am d\\x93ta ¨ci\\x80\\x86tist. This is GA - Geneti\\x94 Algorithm!', [83]], ['Hello!.My name is Ar\\x9eyom Maslennikov! I am d\\x93ta ¨ci\\x80\\x86tist. This is GA - Geneti\\x94 Algorithm!', [83]], ['Hello!.My name is Ar\\x9eyom Maslennikov! I am d\\x93ta ¨ci\\x80\\x86tist. This is GA - Geneti\\x94 Algorithm!', [83]]]\n",
            "Iter: 59869 [['Hello!.My name is Ar\\x9eyom Maslennikov! I am d\\x93ta ¨ci\\x80ntist. This is GA - Genetic Algorithm!', [85]], ['Hello!.My name is Ar\\x9eyom Maslennikov! I am d\\x93ta ¨ci\\x80ntist. This is GA - Geneti\\x94 Algorithm!', [84]], ['Hello!.My name is Ar\\x9eyom Maslennikov! I am d\\x93ta ¨ci\\x80ntist. This is GA - Geneti\\x94 Algorithm!', [84]], ['Hello!.My name is Ar\\x9eyom Maslennikov! I am d\\x93ta ¨ci\\x80ntist. This is GA - Geneti\\x94 Algorithm!', [84]]]\n",
            "Iter: 62524 [['Hello! My name is Ar\\x9eyom Maslennikov! I am d\\x93ta ¨ci\\x80ntist. This is GA - Genetic Algorithm!', [86]], ['Hello!.My name is Ar\\x9eyom Maslennikov! I am d\\x93ta ¨ci\\x80ntist. This is GA - Genetic Algorithm!', [85]], ['Hello!.My name is Ar\\x9eyom Maslennikov! I am d\\x93ta ¨ci\\x80ntist. This is GA - Genetic Algorithm!', [85]], ['Hello!.My name is Ar\\x9eyom Maslennikov! I am d\\x93ta ¨ci\\x80ntist. This is GA - Genetic Algorithm!', [85]]]\n",
            "Iter: 63761 [['Hello! My name is Ar\\x9eyom Maslennikov! I am d\\x93ta sci\\x80ntist. This is GA - Genetic Algorithm!', [87]], ['Hello! My name is Ar\\x9eyom Maslennikov! I am d\\x93ta ¨ci\\x80ntist. This is GA - Genetic Algorithm!', [86]], ['Hello! My name is Ar\\x9eyom Maslennikov! I am d\\x93ta ¨ci\\x80ntist. This is GA - Genetic Algorithm!', [86]], ['Hello! My name is Ar\\x9eyom Maslennikov! I am d\\x93ta ¨ci\\x80ntist. This is GA - Genetic Algorithm!', [86]]]\n",
            "Iter: 68091 [['Hello! My name is Ar\\x9eyom Maslennikov! I am data sci\\x80ntist. This is GA - Genetic Algorithm!', [88]], ['Hello! My name is Ar\\x9eyom Maslennikov! I am d\\x93ta sci\\x80ntist. This is GA - Genetic Algorithm!', [87]], ['Hello! My name is Ar\\x9eyom Maslennikov! I am d\\x93ta sci\\x80ntist. This is GA - Genetic Algorithm!', [87]], ['Hello! My name is Ar\\x9eyom Maslennikov! I am d\\x93ta sci\\x80ntist. This is GA - Genetic Algorithm!', [87]]]\n",
            "Iter: 69636 [['Hello! My name is Artyom Maslennikov! I am data sci\\x80ntist. This is GA - Genetic Algorithm!', [89]], ['Hello! My name is Ar\\x9eyom Maslennikov! I am data sci\\x80ntist. This is GA - Genetic Algorithm!', [88]], ['Hello! My name is Ar\\x9eyom Maslennikov! I am data sci\\x80ntist. This is GA - Genetic Algorithm!', [88]], ['Hello! My name is Ar\\x9eyom Maslennikov! I am data sci\\x80ntist. This is GA - Genetic Algorithm!', [88]]]\n",
            "Iter: 80752 [['Hello! My name is Artyom Maslennikov! I am data scientist. This is GA - Genetic Algorithm!', [90]], ['Hello! My name is Artyom Maslennikov! I am data sci\\x80ntist. This is GA - Genetic Algorithm!', [89]], ['Hello! My name is Artyom Maslennikov! I am data sci\\x80ntist. This is GA - Genetic Algorithm!', [89]], ['Hello! My name is Artyom Maslennikov! I am data sci\\x80ntist. This is GA - Genetic Algorithm!', [89]]]\n",
            "----------------------------------------------------------------------------------------------------\n",
            "['Hello! My name is Artyom Maslennikov! I am data scientist. This is GA - Genetic Algorithm!', [90]]\n"
          ]
        }
      ],
      "source": [
        "# генерация начальной популяции\n",
        "population = []\n",
        "len_population = 4\n",
        "\n",
        "for i in range(len_population):\n",
        "  temp = ''\n",
        "  for j in range(len_target):\n",
        "    temp += chr(rd.randint(32, 192))\n",
        "  population += [[temp]]\n",
        "\n",
        "# расчёт фитнесс-функции\n",
        "for i, indiv in enumerate(population):\n",
        "  population[i] += [[fitness(indiv[0], target)]]\n",
        "\n",
        "max_iter = 10 ** 5 + 1 # кол-во итераций\n",
        "\n",
        "# для визаулизации процесса обучения\n",
        "x = [] \n",
        "y = []\n",
        "\n",
        "for i in range(max_iter):\n",
        "  x += [i]\n",
        "  y += population[0][1]\n",
        "  \n",
        "  if len(y) == 1 or y[-1] != y[-2]: # логирование популяций\n",
        "    print('Iter:', i, population)\n",
        "  \n",
        "  # скрещивание\n",
        "  first_parent = rd.randint(0, len_population-1)\n",
        "  second_parent = rd.randint(0, len_population-1)\n",
        "\n",
        "  while first_parent == second_parent:\n",
        "    second_parent = rd.randint(0, len_population-1)\n",
        "\n",
        "  generation = crossing(population[first_parent][:-1], \n",
        "                        population[second_parent][:-1])\n",
        "  \n",
        "  new_generation = []\n",
        "  \n",
        "  # мутация\n",
        "  for child in generation:\n",
        "    new_generation += [[mutable(child[0])]]\n",
        "  \n",
        "  for j, indiv in enumerate(new_generation):\n",
        "    new_generation[j] += [[fitness(indiv[0], target)]]\n",
        "  \n",
        "  # отбор особей\n",
        "  population += new_generation[:]\n",
        "  population = sorted(population, key=lambda x: -1 * x[-1][0])[:len_population]\n",
        "\n",
        "print('-' * 100)\n",
        "print(population[0])"
      ]
    },
    {
      "cell_type": "markdown",
      "source": [
        "## 7 Визуализация работы генетического алгоритма"
      ],
      "metadata": {
        "id": "_7V8t3unbR0E"
      }
    },
    {
      "cell_type": "code",
      "source": [
        "import matplotlib.pyplot as plt\n",
        "%matplotlib inline"
      ],
      "metadata": {
        "id": "H708lJyEbVRo"
      },
      "execution_count": null,
      "outputs": []
    },
    {
      "cell_type": "code",
      "source": [
        "fig, ax = plt.subplots(figsize=(10, 10))\n",
        "\n",
        "ax.set_title(\"Эволюция особей\", fontsize=20, fontweight=\"bold\")\n",
        "ax.set_xlabel(\"Поколение\", fontsize=20, fontweight=\"bold\")\n",
        "ax.set_ylabel(\"Приспособленность особей\", fontsize=20, fontweight=\"bold\")\n",
        "\n",
        "ax.set_xticks([i for i in range(0, max_iter, max_iter//10)])\n",
        "ax.set_yticks([i for i in range(0, len(target)+1, len(target)//9)])\n",
        "\n",
        "ax.grid()\n",
        "ax.plot(x, y, '--r')\n",
        "\n",
        "plt.show()"
      ],
      "metadata": {
        "colab": {
          "base_uri": "https://localhost:8080/",
          "height": 636
        },
        "id": "_4c6PdmEbYCX",
        "outputId": "9a5cd158-487b-4c48-9535-459edc9b7d4d"
      },
      "execution_count": null,
      "outputs": [
        {
          "output_type": "display_data",
          "data": {
            "text/plain": [
              "<Figure size 720x720 with 1 Axes>"
            ],
            "image/png": "[encoded data removed]"
          },
          "metadata": {
            "needs_background": "light"
          }
        }
      ]
    }
  ],
  "metadata": {
    "colab": {
      "name": "GA Hello World!.ipynb",
      "provenance": [],
      "collapsed_sections": []
    },
    "kernelspec": {
      "display_name": "Python 3",
      "name": "python3"
    },
    "language_info": {
      "name": "python"
    }
  },
  "nbformat": 4,
  "nbformat_minor": 0
}